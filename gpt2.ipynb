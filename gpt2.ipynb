{
 "cells": [
  {
   "cell_type": "code",
   "execution_count": 1,
   "id": "5b1cf009",
   "metadata": {},
   "outputs": [],
   "source": [
    "import torch\n",
    "import torch.nn as nn\n",
    "from torch.utils.data import Dataset,DataLoader"
   ]
  },
  {
   "cell_type": "code",
   "execution_count": 2,
   "id": "8eb439f8",
   "metadata": {},
   "outputs": [],
   "source": [
    "class LayerNormalization(nn.Module):\n",
    "    def __init__(self,emb_dim):\n",
    "        super().__init__()\n",
    "        self.eps = 1e-5\n",
    "        self.scale = nn.Parameter(torch.ones(emb_dim))\n",
    "        self.shift = nn.Parameter(torch.zeros(emb_dim))\n",
    "        \n",
    "    def forward(self,idx):\n",
    "        mean = idx.mean(dim=-1,keepdim = True)\n",
    "        var = idx.var(dim = -1,keepdim =True,unbiased = False)\n",
    "        norm_x = (idx - mean) / torch.sqrt(var + self.eps)\n",
    "        return self.scale * norm_x + self.shift"
   ]
  },
  {
   "cell_type": "code",
   "execution_count": 3,
   "id": "3797d591",
   "metadata": {},
   "outputs": [],
   "source": [
    "class MultiHeadattation(nn.Module):\n",
    "    \n",
    "    def __init__(self,d_in,d_out,context_length,dropout,num_heads,qkv_bias = False):\n",
    "        super().__init__()\n",
    "        \n",
    "        assert (d_out % num_heads == 0), \\\n",
    "        'number of heads must be lower then dimension out'\n",
    "        \n",
    "        self.register_buffer('mask',torch.triu(torch.ones(context_length,context_length),diagonal = 1))\n",
    "        self.d_out  = d_out\n",
    "        self.num_heads = num_heads\n",
    "        self.out_proj = nn.Linear(d_out, d_out)\n",
    "        self.head_dim = self.d_out // self.num_heads\n",
    "        self.q_weight = nn.Linear(d_in,d_out,bias = qkv_bias)\n",
    "        self.k_weight = nn.Linear(d_in,d_out,bias = qkv_bias)\n",
    "        self.v_weight = nn.Linear(d_in,d_out,bias = qkv_bias)\n",
    "        self.dropout  = nn.Dropout(dropout)\n",
    "        \n",
    "    def forward(self,idx):\n",
    "        batch,num_tokens,d_in = idx.shape\n",
    "        q_matrix = self.q_weight(idx)\n",
    "        k_matrix = self.k_weight(idx)\n",
    "        v_matrix = self.v_weight(idx)\n",
    "        \n",
    "        query = q_matrix.view(batch,num_tokens,self.num_heads,self.head_dim)\n",
    "        key = k_matrix.view(batch,num_tokens,self.num_heads,self.head_dim)\n",
    "        value = v_matrix.view(batch,num_tokens,self.num_heads,self.head_dim)\n",
    "        \n",
    "        query = query.transpose(1,2)\n",
    "        key = key.transpose(1,2)\n",
    "        value = value.transpose(1,2)\n",
    "        \n",
    "        attention_score = query @ key.transpose(2,3)\n",
    "        masked_matrix = attention_score.masked_fill(self.mask.bool()[:num_tokens,:num_tokens],-torch.inf)\n",
    "        attention_weight = torch.softmax(masked_matrix / idx.shape[-1] ** 0.5,dim=-1)\n",
    "        \n",
    "        attention_weight = self.dropout(attention_weight)\n",
    "        context_vec = (attention_weight @ value).transpose(1,2)\n",
    "        context_vec = context_vec.contiguous().view(batch,num_tokens,self.d_out)\n",
    "        context_vec = self.out_proj(context_vec)\n",
    "        \n",
    "        return context_vec"
   ]
  },
  {
   "cell_type": "code",
   "execution_count": 4,
   "id": "8a9a9fa0",
   "metadata": {},
   "outputs": [],
   "source": [
    "class GELU(nn.Module):\n",
    "    def __init__(self):\n",
    "        super().__init__()\n",
    "\n",
    "    def forward(self, x):\n",
    "        return 0.5 * x * (1 + torch.tanh(\n",
    "            torch.sqrt(torch.tensor(2.0 / torch.pi)) * \n",
    "            (x + 0.044715 * torch.pow(x, 3))\n",
    "        ))"
   ]
  },
  {
   "cell_type": "code",
   "execution_count": 5,
   "id": "880d18dd",
   "metadata": {},
   "outputs": [],
   "source": [
    "class FeedForward(nn.Module):\n",
    "    def __init__(self, cfg):\n",
    "        super().__init__()\n",
    "        self.layers = nn.Sequential(\n",
    "            nn.Linear(cfg[\"emb_dim\"], 4 * cfg[\"emb_dim\"]),\n",
    "            GELU(),\n",
    "            nn.Linear(4 * cfg[\"emb_dim\"], cfg[\"emb_dim\"]),\n",
    "        )\n",
    "\n",
    "    def forward(self, x):\n",
    "        return self.layers(x)"
   ]
  },
  {
   "cell_type": "code",
   "execution_count": 6,
   "id": "604b8ad9",
   "metadata": {},
   "outputs": [],
   "source": [
    "class Transformerblock(nn.Module):\n",
    "    def __init__(self,cfg):\n",
    "        super().__init__()\n",
    "        self.MultiHeadattation_instance = MultiHeadattation(cfg['emb_dim'],cfg['emb_dim'],cfg['context_length'],cfg['drop_rate'],cfg['num_heads'])\n",
    "        self.att = MultiHeadattation(\n",
    "            d_in=cfg[\"emb_dim\"],\n",
    "            d_out=cfg[\"emb_dim\"],\n",
    "            context_length=cfg[\"context_length\"],\n",
    "            num_heads=cfg[\"num_heads\"], \n",
    "            dropout=cfg[\"drop_rate\"],\n",
    "            qkv_bias=cfg[\"qkv_bias\"])\n",
    "        self.ff = FeedForward(cfg)\n",
    "        self.norm1 = LayerNormalization(cfg[\"emb_dim\"])\n",
    "        self.norm2 = LayerNormalization(cfg[\"emb_dim\"])\n",
    "        self.drop_shortcut = nn.Dropout(cfg[\"drop_rate\"])\n",
    "    \n",
    "    def forward(self,x):\n",
    "        \n",
    "        shortcut = x\n",
    "        x = self.norm1(x)\n",
    "        x = self.att(x) \n",
    "        x = self.drop_shortcut(x)\n",
    "        x = x + shortcut  \n",
    "        \n",
    "        shortcut = x\n",
    "        x = self.norm2(x)\n",
    "        x = self.ff(x)\n",
    "        x = self.drop_shortcut(x)\n",
    "        x = x + shortcut \n",
    "\n",
    "        return x"
   ]
  },
  {
   "cell_type": "code",
   "execution_count": 7,
   "id": "739e0fb7",
   "metadata": {},
   "outputs": [],
   "source": [
    "class GPT2(nn.Module):\n",
    "    def __init__(self,cfg):\n",
    "        super().__init__()\n",
    "        self.tok_emb = nn.Embedding(cfg[\"vocab_size\"], cfg[\"emb_dim\"])\n",
    "        self.pos_emb = nn.Embedding(cfg[\"context_length\"], cfg[\"emb_dim\"])\n",
    "        self.drop_emb = nn.Dropout(cfg[\"drop_rate\"])\n",
    "        \n",
    "        self.trf_blocks = nn.Sequential(\n",
    "            *[Transformerblock(cfg) for _ in range(cfg[\"num_layers\"])])\n",
    "        \n",
    "        self.final_norm = LayerNormalization(cfg[\"emb_dim\"])\n",
    "        self.out_head = nn.Linear(\n",
    "            cfg[\"emb_dim\"], cfg[\"vocab_size\"], bias=False\n",
    "        )\n",
    "\n",
    "    def forward(self, idx):\n",
    "        batch_size, seq_len = idx.shape\n",
    "        tok_embeds = self.tok_emb(idx)\n",
    "        pos_embeds = self.pos_emb(torch.arange(seq_len, device=idx.device))\n",
    "        idx = tok_embeds + pos_embeds \n",
    "        idx = self.drop_emb(idx)\n",
    "        idx = self.trf_blocks(idx)\n",
    "        idx = self.final_norm(idx)\n",
    "        logits = self.out_head(idx)\n",
    "        return logits\n",
    "        "
   ]
  },
  {
   "cell_type": "code",
   "execution_count": 8,
   "id": "e6dfbfde",
   "metadata": {},
   "outputs": [],
   "source": [
    "GPT_Cfg = {\n",
    "    'num_heads' : 12,\n",
    "    'num_layers' : 12,\n",
    "    'drop_rate' : 0.1,\n",
    "    'qkv_bias' : False,\n",
    "    'emb_dim' : 768,\n",
    "    'context_length' : 1024,\n",
    "    'vocab_size'  : 50257,\n",
    "}"
   ]
  },
  {
   "cell_type": "code",
   "execution_count": 9,
   "id": "79e57f6b",
   "metadata": {},
   "outputs": [
    {
     "name": "stdout",
     "output_type": "stream",
     "text": [
      "tensor([[6109, 3626, 6100,  345],\n",
      "        [6109, 1110, 6622,  257]])\n"
     ]
    }
   ],
   "source": [
    "import tiktoken\n",
    "tokenizer = tiktoken.get_encoding(\"gpt2\")\n",
    "batch = []\n",
    "txt1 = \"Every effort moves you\"\n",
    "txt2 = \"Every day holds a\"\n",
    "batch.append(torch.tensor(tokenizer.encode(txt1)))\n",
    "batch.append(torch.tensor(tokenizer.encode(txt2)))\n",
    "batch = torch.stack(batch, dim=0)\n",
    "print(batch)"
   ]
  },
  {
   "cell_type": "code",
   "execution_count": 10,
   "id": "40e8d6d7",
   "metadata": {},
   "outputs": [
    {
     "data": {
      "text/plain": [
       "tensor([[[ 0.0742, -0.8474,  0.6043,  ..., -0.1689,  0.1578,  0.1192],\n",
       "         [ 0.5202,  0.3038, -0.4188,  ..., -0.1988, -0.2917, -0.3180],\n",
       "         [ 0.1320, -0.0914, -0.1178,  ...,  0.8987, -0.6488,  0.3303],\n",
       "         [ 1.0237,  0.6220, -0.3833,  ..., -0.2747, -0.9521,  0.2339]],\n",
       "\n",
       "        [[ 0.4899, -0.6184,  0.0449,  ..., -0.3236,  0.3216,  0.2945],\n",
       "         [-0.2956, -0.7793,  0.8040,  ..., -0.0736, -0.1223, -0.0954],\n",
       "         [ 1.3290, -0.3468,  0.4233,  ..., -0.1219, -0.5837, -0.4454],\n",
       "         [ 0.0691, -0.0366,  0.1129,  ..., -0.2452, -0.2557, -0.2038]]],\n",
       "       grad_fn=<UnsafeViewBackward0>)"
      ]
     },
     "execution_count": 10,
     "metadata": {},
     "output_type": "execute_result"
    }
   ],
   "source": [
    "dummygpt = GPT2(GPT_Cfg)\n",
    "result = dummygpt(batch)\n",
    "result"
   ]
  },
  {
   "cell_type": "code",
   "execution_count": 11,
   "id": "3c750529",
   "metadata": {},
   "outputs": [
    {
     "name": "stdout",
     "output_type": "stream",
     "text": [
      "Total Number Of Parameters are :191,330,304\n"
     ]
    }
   ],
   "source": [
    "total_parameters = sum(p.numel() for p in dummygpt.parameters())\n",
    "print(f\"Total Number Of Parameters are :{total_parameters:,}\")"
   ]
  },
  {
   "cell_type": "code",
   "execution_count": 12,
   "id": "45a048dd",
   "metadata": {},
   "outputs": [],
   "source": [
    "def generate_new_text(idx,max_iteration,model,context_size):\n",
    "    \n",
    "    for _ in range(max_iteration):\n",
    "        idx_new = idx[:,-context_size:]\n",
    "        \n",
    "        with torch.no_grad():\n",
    "            logits = model(idx_new)\n",
    "            \n",
    "        new_logits = logits[:,-1,:]\n",
    "        probas = torch.softmax(new_logits,dim=-1)\n",
    "        max_probas = torch.argmax(probas,dim=-1,keepdim=True)\n",
    "        \n",
    "        idx = torch.concat((idx,max_probas),dim=-1)\n",
    "        \n",
    "    return idx"
   ]
  },
  {
   "cell_type": "code",
   "execution_count": 13,
   "id": "1f30c0fd",
   "metadata": {},
   "outputs": [
    {
     "name": "stdout",
     "output_type": "stream",
     "text": [
      "Tokenized text is :  [1820, 1438]\n",
      "Tokenized text shape is :  torch.Size([1, 2])\n"
     ]
    }
   ],
   "source": [
    "text = \"my name\"\n",
    "toknized_text = tokenizer.encode(text)\n",
    "print(\"Tokenized text is : \",toknized_text)\n",
    "new_tokenized_text = torch.tensor(toknized_text).unsqueeze(0)\n",
    "print(\"Tokenized text shape is : \",new_tokenized_text.shape)"
   ]
  },
  {
   "cell_type": "code",
   "execution_count": 14,
   "id": "15619267",
   "metadata": {},
   "outputs": [
    {
     "name": "stdout",
     "output_type": "stream",
     "text": [
      "output tensor is : tensor([[ 1820,  1438, 26476, 14693,  7776, 15800,  2535, 42499]])\n"
     ]
    }
   ],
   "source": [
    "predict = generate_new_text(\n",
    "    idx = new_tokenized_text,\n",
    "    max_iteration = 6,\n",
    "    model = dummygpt,\n",
    "    context_size = GPT_Cfg['context_length']\n",
    ")\n",
    "\n",
    "print(\"output tensor is :\",predict)"
   ]
  },
  {
   "cell_type": "code",
   "execution_count": 15,
   "id": "8a5f315e",
   "metadata": {},
   "outputs": [
    {
     "name": "stdout",
     "output_type": "stream",
     "text": [
      "my name discharged alternatives gaming shyitting aber\n"
     ]
    }
   ],
   "source": [
    "uncoded_text = tokenizer.decode(predict.squeeze(0).tolist())\n",
    "print(uncoded_text)"
   ]
  },
  {
   "cell_type": "code",
   "execution_count": 16,
   "id": "5c3f7004",
   "metadata": {},
   "outputs": [],
   "source": [
    "inputs = torch.tensor([[16833, 3626, 6100],   # [\"every effort moves\",\n",
    "                    [40,    1107, 588]])   #  \"I really like\"]\n",
    "\n",
    "targets = torch.tensor([[3626, 6100, 345  ],  # [\" effort moves you\",\n",
    "                        [1107,  588, 11311]])"
   ]
  },
  {
   "cell_type": "code",
   "execution_count": 17,
   "id": "ee4b3923",
   "metadata": {},
   "outputs": [],
   "source": [
    "with torch.no_grad():\n",
    "    logits = dummygpt(inputs)"
   ]
  },
  {
   "cell_type": "code",
   "execution_count": 18,
   "id": "23070abf",
   "metadata": {},
   "outputs": [
    {
     "name": "stdout",
     "output_type": "stream",
     "text": [
      "torch.Size([2, 3, 50257])\n"
     ]
    }
   ],
   "source": [
    "probas = torch.softmax(logits,dim=-1)\n",
    "print(probas.shape)"
   ]
  },
  {
   "cell_type": "code",
   "execution_count": 19,
   "id": "e3fe3a96",
   "metadata": {},
   "outputs": [
    {
     "name": "stdout",
     "output_type": "stream",
     "text": [
      "Token IDs:\n",
      " tensor([[[38411],\n",
      "         [24759],\n",
      "         [19222]],\n",
      "\n",
      "        [[21434],\n",
      "         [14508],\n",
      "         [29361]]])\n"
     ]
    }
   ],
   "source": [
    "token_ids = torch.argmax(probas, dim=-1, keepdim=True)\n",
    "print(\"Token IDs:\\n\", token_ids)"
   ]
  },
  {
   "cell_type": "code",
   "execution_count": 20,
   "id": "480cee00",
   "metadata": {},
   "outputs": [
    {
     "data": {
      "text/plain": [
       "GPT2(\n",
       "  (tok_emb): Embedding(50257, 768)\n",
       "  (pos_emb): Embedding(256, 768)\n",
       "  (drop_emb): Dropout(p=0.1, inplace=False)\n",
       "  (trf_blocks): Sequential(\n",
       "    (0): Transformerblock(\n",
       "      (MultiHeadattation_instance): MultiHeadattation(\n",
       "        (out_proj): Linear(in_features=768, out_features=768, bias=True)\n",
       "        (q_weight): Linear(in_features=768, out_features=768, bias=False)\n",
       "        (k_weight): Linear(in_features=768, out_features=768, bias=False)\n",
       "        (v_weight): Linear(in_features=768, out_features=768, bias=False)\n",
       "        (dropout): Dropout(p=0.1, inplace=False)\n",
       "      )\n",
       "      (att): MultiHeadattation(\n",
       "        (out_proj): Linear(in_features=768, out_features=768, bias=True)\n",
       "        (q_weight): Linear(in_features=768, out_features=768, bias=False)\n",
       "        (k_weight): Linear(in_features=768, out_features=768, bias=False)\n",
       "        (v_weight): Linear(in_features=768, out_features=768, bias=False)\n",
       "        (dropout): Dropout(p=0.1, inplace=False)\n",
       "      )\n",
       "      (ff): FeedForward(\n",
       "        (layers): Sequential(\n",
       "          (0): Linear(in_features=768, out_features=3072, bias=True)\n",
       "          (1): GELU()\n",
       "          (2): Linear(in_features=3072, out_features=768, bias=True)\n",
       "        )\n",
       "      )\n",
       "      (norm1): LayerNormalization()\n",
       "      (norm2): LayerNormalization()\n",
       "      (drop_shortcut): Dropout(p=0.1, inplace=False)\n",
       "    )\n",
       "    (1): Transformerblock(\n",
       "      (MultiHeadattation_instance): MultiHeadattation(\n",
       "        (out_proj): Linear(in_features=768, out_features=768, bias=True)\n",
       "        (q_weight): Linear(in_features=768, out_features=768, bias=False)\n",
       "        (k_weight): Linear(in_features=768, out_features=768, bias=False)\n",
       "        (v_weight): Linear(in_features=768, out_features=768, bias=False)\n",
       "        (dropout): Dropout(p=0.1, inplace=False)\n",
       "      )\n",
       "      (att): MultiHeadattation(\n",
       "        (out_proj): Linear(in_features=768, out_features=768, bias=True)\n",
       "        (q_weight): Linear(in_features=768, out_features=768, bias=False)\n",
       "        (k_weight): Linear(in_features=768, out_features=768, bias=False)\n",
       "        (v_weight): Linear(in_features=768, out_features=768, bias=False)\n",
       "        (dropout): Dropout(p=0.1, inplace=False)\n",
       "      )\n",
       "      (ff): FeedForward(\n",
       "        (layers): Sequential(\n",
       "          (0): Linear(in_features=768, out_features=3072, bias=True)\n",
       "          (1): GELU()\n",
       "          (2): Linear(in_features=3072, out_features=768, bias=True)\n",
       "        )\n",
       "      )\n",
       "      (norm1): LayerNormalization()\n",
       "      (norm2): LayerNormalization()\n",
       "      (drop_shortcut): Dropout(p=0.1, inplace=False)\n",
       "    )\n",
       "    (2): Transformerblock(\n",
       "      (MultiHeadattation_instance): MultiHeadattation(\n",
       "        (out_proj): Linear(in_features=768, out_features=768, bias=True)\n",
       "        (q_weight): Linear(in_features=768, out_features=768, bias=False)\n",
       "        (k_weight): Linear(in_features=768, out_features=768, bias=False)\n",
       "        (v_weight): Linear(in_features=768, out_features=768, bias=False)\n",
       "        (dropout): Dropout(p=0.1, inplace=False)\n",
       "      )\n",
       "      (att): MultiHeadattation(\n",
       "        (out_proj): Linear(in_features=768, out_features=768, bias=True)\n",
       "        (q_weight): Linear(in_features=768, out_features=768, bias=False)\n",
       "        (k_weight): Linear(in_features=768, out_features=768, bias=False)\n",
       "        (v_weight): Linear(in_features=768, out_features=768, bias=False)\n",
       "        (dropout): Dropout(p=0.1, inplace=False)\n",
       "      )\n",
       "      (ff): FeedForward(\n",
       "        (layers): Sequential(\n",
       "          (0): Linear(in_features=768, out_features=3072, bias=True)\n",
       "          (1): GELU()\n",
       "          (2): Linear(in_features=3072, out_features=768, bias=True)\n",
       "        )\n",
       "      )\n",
       "      (norm1): LayerNormalization()\n",
       "      (norm2): LayerNormalization()\n",
       "      (drop_shortcut): Dropout(p=0.1, inplace=False)\n",
       "    )\n",
       "    (3): Transformerblock(\n",
       "      (MultiHeadattation_instance): MultiHeadattation(\n",
       "        (out_proj): Linear(in_features=768, out_features=768, bias=True)\n",
       "        (q_weight): Linear(in_features=768, out_features=768, bias=False)\n",
       "        (k_weight): Linear(in_features=768, out_features=768, bias=False)\n",
       "        (v_weight): Linear(in_features=768, out_features=768, bias=False)\n",
       "        (dropout): Dropout(p=0.1, inplace=False)\n",
       "      )\n",
       "      (att): MultiHeadattation(\n",
       "        (out_proj): Linear(in_features=768, out_features=768, bias=True)\n",
       "        (q_weight): Linear(in_features=768, out_features=768, bias=False)\n",
       "        (k_weight): Linear(in_features=768, out_features=768, bias=False)\n",
       "        (v_weight): Linear(in_features=768, out_features=768, bias=False)\n",
       "        (dropout): Dropout(p=0.1, inplace=False)\n",
       "      )\n",
       "      (ff): FeedForward(\n",
       "        (layers): Sequential(\n",
       "          (0): Linear(in_features=768, out_features=3072, bias=True)\n",
       "          (1): GELU()\n",
       "          (2): Linear(in_features=3072, out_features=768, bias=True)\n",
       "        )\n",
       "      )\n",
       "      (norm1): LayerNormalization()\n",
       "      (norm2): LayerNormalization()\n",
       "      (drop_shortcut): Dropout(p=0.1, inplace=False)\n",
       "    )\n",
       "    (4): Transformerblock(\n",
       "      (MultiHeadattation_instance): MultiHeadattation(\n",
       "        (out_proj): Linear(in_features=768, out_features=768, bias=True)\n",
       "        (q_weight): Linear(in_features=768, out_features=768, bias=False)\n",
       "        (k_weight): Linear(in_features=768, out_features=768, bias=False)\n",
       "        (v_weight): Linear(in_features=768, out_features=768, bias=False)\n",
       "        (dropout): Dropout(p=0.1, inplace=False)\n",
       "      )\n",
       "      (att): MultiHeadattation(\n",
       "        (out_proj): Linear(in_features=768, out_features=768, bias=True)\n",
       "        (q_weight): Linear(in_features=768, out_features=768, bias=False)\n",
       "        (k_weight): Linear(in_features=768, out_features=768, bias=False)\n",
       "        (v_weight): Linear(in_features=768, out_features=768, bias=False)\n",
       "        (dropout): Dropout(p=0.1, inplace=False)\n",
       "      )\n",
       "      (ff): FeedForward(\n",
       "        (layers): Sequential(\n",
       "          (0): Linear(in_features=768, out_features=3072, bias=True)\n",
       "          (1): GELU()\n",
       "          (2): Linear(in_features=3072, out_features=768, bias=True)\n",
       "        )\n",
       "      )\n",
       "      (norm1): LayerNormalization()\n",
       "      (norm2): LayerNormalization()\n",
       "      (drop_shortcut): Dropout(p=0.1, inplace=False)\n",
       "    )\n",
       "    (5): Transformerblock(\n",
       "      (MultiHeadattation_instance): MultiHeadattation(\n",
       "        (out_proj): Linear(in_features=768, out_features=768, bias=True)\n",
       "        (q_weight): Linear(in_features=768, out_features=768, bias=False)\n",
       "        (k_weight): Linear(in_features=768, out_features=768, bias=False)\n",
       "        (v_weight): Linear(in_features=768, out_features=768, bias=False)\n",
       "        (dropout): Dropout(p=0.1, inplace=False)\n",
       "      )\n",
       "      (att): MultiHeadattation(\n",
       "        (out_proj): Linear(in_features=768, out_features=768, bias=True)\n",
       "        (q_weight): Linear(in_features=768, out_features=768, bias=False)\n",
       "        (k_weight): Linear(in_features=768, out_features=768, bias=False)\n",
       "        (v_weight): Linear(in_features=768, out_features=768, bias=False)\n",
       "        (dropout): Dropout(p=0.1, inplace=False)\n",
       "      )\n",
       "      (ff): FeedForward(\n",
       "        (layers): Sequential(\n",
       "          (0): Linear(in_features=768, out_features=3072, bias=True)\n",
       "          (1): GELU()\n",
       "          (2): Linear(in_features=3072, out_features=768, bias=True)\n",
       "        )\n",
       "      )\n",
       "      (norm1): LayerNormalization()\n",
       "      (norm2): LayerNormalization()\n",
       "      (drop_shortcut): Dropout(p=0.1, inplace=False)\n",
       "    )\n",
       "    (6): Transformerblock(\n",
       "      (MultiHeadattation_instance): MultiHeadattation(\n",
       "        (out_proj): Linear(in_features=768, out_features=768, bias=True)\n",
       "        (q_weight): Linear(in_features=768, out_features=768, bias=False)\n",
       "        (k_weight): Linear(in_features=768, out_features=768, bias=False)\n",
       "        (v_weight): Linear(in_features=768, out_features=768, bias=False)\n",
       "        (dropout): Dropout(p=0.1, inplace=False)\n",
       "      )\n",
       "      (att): MultiHeadattation(\n",
       "        (out_proj): Linear(in_features=768, out_features=768, bias=True)\n",
       "        (q_weight): Linear(in_features=768, out_features=768, bias=False)\n",
       "        (k_weight): Linear(in_features=768, out_features=768, bias=False)\n",
       "        (v_weight): Linear(in_features=768, out_features=768, bias=False)\n",
       "        (dropout): Dropout(p=0.1, inplace=False)\n",
       "      )\n",
       "      (ff): FeedForward(\n",
       "        (layers): Sequential(\n",
       "          (0): Linear(in_features=768, out_features=3072, bias=True)\n",
       "          (1): GELU()\n",
       "          (2): Linear(in_features=3072, out_features=768, bias=True)\n",
       "        )\n",
       "      )\n",
       "      (norm1): LayerNormalization()\n",
       "      (norm2): LayerNormalization()\n",
       "      (drop_shortcut): Dropout(p=0.1, inplace=False)\n",
       "    )\n",
       "    (7): Transformerblock(\n",
       "      (MultiHeadattation_instance): MultiHeadattation(\n",
       "        (out_proj): Linear(in_features=768, out_features=768, bias=True)\n",
       "        (q_weight): Linear(in_features=768, out_features=768, bias=False)\n",
       "        (k_weight): Linear(in_features=768, out_features=768, bias=False)\n",
       "        (v_weight): Linear(in_features=768, out_features=768, bias=False)\n",
       "        (dropout): Dropout(p=0.1, inplace=False)\n",
       "      )\n",
       "      (att): MultiHeadattation(\n",
       "        (out_proj): Linear(in_features=768, out_features=768, bias=True)\n",
       "        (q_weight): Linear(in_features=768, out_features=768, bias=False)\n",
       "        (k_weight): Linear(in_features=768, out_features=768, bias=False)\n",
       "        (v_weight): Linear(in_features=768, out_features=768, bias=False)\n",
       "        (dropout): Dropout(p=0.1, inplace=False)\n",
       "      )\n",
       "      (ff): FeedForward(\n",
       "        (layers): Sequential(\n",
       "          (0): Linear(in_features=768, out_features=3072, bias=True)\n",
       "          (1): GELU()\n",
       "          (2): Linear(in_features=3072, out_features=768, bias=True)\n",
       "        )\n",
       "      )\n",
       "      (norm1): LayerNormalization()\n",
       "      (norm2): LayerNormalization()\n",
       "      (drop_shortcut): Dropout(p=0.1, inplace=False)\n",
       "    )\n",
       "    (8): Transformerblock(\n",
       "      (MultiHeadattation_instance): MultiHeadattation(\n",
       "        (out_proj): Linear(in_features=768, out_features=768, bias=True)\n",
       "        (q_weight): Linear(in_features=768, out_features=768, bias=False)\n",
       "        (k_weight): Linear(in_features=768, out_features=768, bias=False)\n",
       "        (v_weight): Linear(in_features=768, out_features=768, bias=False)\n",
       "        (dropout): Dropout(p=0.1, inplace=False)\n",
       "      )\n",
       "      (att): MultiHeadattation(\n",
       "        (out_proj): Linear(in_features=768, out_features=768, bias=True)\n",
       "        (q_weight): Linear(in_features=768, out_features=768, bias=False)\n",
       "        (k_weight): Linear(in_features=768, out_features=768, bias=False)\n",
       "        (v_weight): Linear(in_features=768, out_features=768, bias=False)\n",
       "        (dropout): Dropout(p=0.1, inplace=False)\n",
       "      )\n",
       "      (ff): FeedForward(\n",
       "        (layers): Sequential(\n",
       "          (0): Linear(in_features=768, out_features=3072, bias=True)\n",
       "          (1): GELU()\n",
       "          (2): Linear(in_features=3072, out_features=768, bias=True)\n",
       "        )\n",
       "      )\n",
       "      (norm1): LayerNormalization()\n",
       "      (norm2): LayerNormalization()\n",
       "      (drop_shortcut): Dropout(p=0.1, inplace=False)\n",
       "    )\n",
       "    (9): Transformerblock(\n",
       "      (MultiHeadattation_instance): MultiHeadattation(\n",
       "        (out_proj): Linear(in_features=768, out_features=768, bias=True)\n",
       "        (q_weight): Linear(in_features=768, out_features=768, bias=False)\n",
       "        (k_weight): Linear(in_features=768, out_features=768, bias=False)\n",
       "        (v_weight): Linear(in_features=768, out_features=768, bias=False)\n",
       "        (dropout): Dropout(p=0.1, inplace=False)\n",
       "      )\n",
       "      (att): MultiHeadattation(\n",
       "        (out_proj): Linear(in_features=768, out_features=768, bias=True)\n",
       "        (q_weight): Linear(in_features=768, out_features=768, bias=False)\n",
       "        (k_weight): Linear(in_features=768, out_features=768, bias=False)\n",
       "        (v_weight): Linear(in_features=768, out_features=768, bias=False)\n",
       "        (dropout): Dropout(p=0.1, inplace=False)\n",
       "      )\n",
       "      (ff): FeedForward(\n",
       "        (layers): Sequential(\n",
       "          (0): Linear(in_features=768, out_features=3072, bias=True)\n",
       "          (1): GELU()\n",
       "          (2): Linear(in_features=3072, out_features=768, bias=True)\n",
       "        )\n",
       "      )\n",
       "      (norm1): LayerNormalization()\n",
       "      (norm2): LayerNormalization()\n",
       "      (drop_shortcut): Dropout(p=0.1, inplace=False)\n",
       "    )\n",
       "    (10): Transformerblock(\n",
       "      (MultiHeadattation_instance): MultiHeadattation(\n",
       "        (out_proj): Linear(in_features=768, out_features=768, bias=True)\n",
       "        (q_weight): Linear(in_features=768, out_features=768, bias=False)\n",
       "        (k_weight): Linear(in_features=768, out_features=768, bias=False)\n",
       "        (v_weight): Linear(in_features=768, out_features=768, bias=False)\n",
       "        (dropout): Dropout(p=0.1, inplace=False)\n",
       "      )\n",
       "      (att): MultiHeadattation(\n",
       "        (out_proj): Linear(in_features=768, out_features=768, bias=True)\n",
       "        (q_weight): Linear(in_features=768, out_features=768, bias=False)\n",
       "        (k_weight): Linear(in_features=768, out_features=768, bias=False)\n",
       "        (v_weight): Linear(in_features=768, out_features=768, bias=False)\n",
       "        (dropout): Dropout(p=0.1, inplace=False)\n",
       "      )\n",
       "      (ff): FeedForward(\n",
       "        (layers): Sequential(\n",
       "          (0): Linear(in_features=768, out_features=3072, bias=True)\n",
       "          (1): GELU()\n",
       "          (2): Linear(in_features=3072, out_features=768, bias=True)\n",
       "        )\n",
       "      )\n",
       "      (norm1): LayerNormalization()\n",
       "      (norm2): LayerNormalization()\n",
       "      (drop_shortcut): Dropout(p=0.1, inplace=False)\n",
       "    )\n",
       "    (11): Transformerblock(\n",
       "      (MultiHeadattation_instance): MultiHeadattation(\n",
       "        (out_proj): Linear(in_features=768, out_features=768, bias=True)\n",
       "        (q_weight): Linear(in_features=768, out_features=768, bias=False)\n",
       "        (k_weight): Linear(in_features=768, out_features=768, bias=False)\n",
       "        (v_weight): Linear(in_features=768, out_features=768, bias=False)\n",
       "        (dropout): Dropout(p=0.1, inplace=False)\n",
       "      )\n",
       "      (att): MultiHeadattation(\n",
       "        (out_proj): Linear(in_features=768, out_features=768, bias=True)\n",
       "        (q_weight): Linear(in_features=768, out_features=768, bias=False)\n",
       "        (k_weight): Linear(in_features=768, out_features=768, bias=False)\n",
       "        (v_weight): Linear(in_features=768, out_features=768, bias=False)\n",
       "        (dropout): Dropout(p=0.1, inplace=False)\n",
       "      )\n",
       "      (ff): FeedForward(\n",
       "        (layers): Sequential(\n",
       "          (0): Linear(in_features=768, out_features=3072, bias=True)\n",
       "          (1): GELU()\n",
       "          (2): Linear(in_features=3072, out_features=768, bias=True)\n",
       "        )\n",
       "      )\n",
       "      (norm1): LayerNormalization()\n",
       "      (norm2): LayerNormalization()\n",
       "      (drop_shortcut): Dropout(p=0.1, inplace=False)\n",
       "    )\n",
       "  )\n",
       "  (final_norm): LayerNormalization()\n",
       "  (out_head): Linear(in_features=768, out_features=50257, bias=False)\n",
       ")"
      ]
     },
     "execution_count": 20,
     "metadata": {},
     "output_type": "execute_result"
    }
   ],
   "source": [
    "GPT_CONFIG_124M = {\n",
    "    \"vocab_size\": 50257,   # Vocabulary size\n",
    "    \"context_length\": 256, # Shortened context length (orig: 1024)\n",
    "    \"emb_dim\": 768,        # Embedding dimension\n",
    "    \"num_heads\": 12,         # Number of attention heads\n",
    "    \"num_layers\": 12,        # Number of layers\n",
    "    \"drop_rate\": 0.1,      # Dropout rate\n",
    "    \"qkv_bias\": False      # Query-key-value bias\n",
    "}\n",
    "\n",
    "torch.manual_seed(123)\n",
    "model = GPT2(GPT_CONFIG_124M)\n",
    "model.eval()"
   ]
  },
  {
   "cell_type": "code",
   "execution_count": 21,
   "id": "c6042aa6",
   "metadata": {},
   "outputs": [],
   "source": [
    "def token_ids_to_text(idx,tokenizer):\n",
    "    encoded_text =  idx.squeeze(0)\n",
    "    return  tokenizer.decode(encoded_text.tolist())\n",
    "\n",
    "def text_to_token_ids(text,tokenizer):\n",
    "    decoded_text =  tokenizer.encode(text,allowed_special={'<|endoftext|>'})\n",
    "    decoded_tensor = torch.tensor(decoded_text).unsqueeze(0)\n",
    "    return  decoded_tensor\n",
    "\n",
    "class GPTDatasetV1(Dataset):\n",
    "    def __init__(self, txt, tokenizer, max_length, stride):\n",
    "        self.input_ids = []\n",
    "        self.target_ids = []\n",
    "\n",
    "        token_ids = tokenizer.encode(txt, allowed_special={\"<|endoftext|>\"})\n",
    "\n",
    "        for i in range(0, len(token_ids) - max_length, stride):\n",
    "            input_chunk = token_ids[i:i + max_length]\n",
    "            target_chunk = token_ids[i + 1: i + max_length + 1]\n",
    "            self.input_ids.append(torch.tensor(input_chunk))\n",
    "            self.target_ids.append(torch.tensor(target_chunk))\n",
    "\n",
    "    def __len__(self):\n",
    "        return len(self.input_ids)\n",
    "\n",
    "    def __getitem__(self, idx):\n",
    "        return self.input_ids[idx], self.target_ids[idx]\n",
    "\n",
    "def create_dataloader_v1(txt, batch_size=4, max_length=256, \n",
    "                        stride=128, shuffle=True, drop_last=True,\n",
    "                        num_workers=0):\n",
    "\n",
    "    tokenizer = tiktoken.get_encoding(\"gpt2\")\n",
    "    dataset = GPTDatasetV1(txt, tokenizer, max_length, stride)\n",
    "\n",
    "    dataloader = DataLoader(\n",
    "        dataset,\n",
    "        batch_size=batch_size,\n",
    "        shuffle=shuffle,\n",
    "        drop_last=drop_last,\n",
    "        num_workers=num_workers\n",
    "    )\n",
    "\n",
    "    return dataloader"
   ]
  },
  {
   "cell_type": "code",
   "execution_count": 22,
   "id": "25643dd2",
   "metadata": {},
   "outputs": [
    {
     "name": "stdout",
     "output_type": "stream",
     "text": [
      "Targets batch 1:  effort moves you\n",
      "Outputs batch 1:  whims Wool dull\n"
     ]
    }
   ],
   "source": [
    "print(f\"Targets batch 1: {token_ids_to_text(targets[0], tokenizer)}\")\n",
    "print(f\"Outputs batch 1: {token_ids_to_text(token_ids[0].flatten(), tokenizer)}\")"
   ]
  },
  {
   "cell_type": "code",
   "execution_count": 23,
   "id": "5722db40",
   "metadata": {},
   "outputs": [
    {
     "name": "stdout",
     "output_type": "stream",
     "text": [
      "Text 1: tensor([2.5397e-05, 2.2672e-05, 3.7386e-05])\n",
      "Text 2: tensor([1.0684e-05, 1.0179e-05, 2.1199e-05])\n"
     ]
    }
   ],
   "source": [
    "text_idx = 0\n",
    "target_probas_1 = probas[text_idx, [0, 1, 2], targets[text_idx]]\n",
    "print(\"Text 1:\", target_probas_1)\n",
    "\n",
    "text_idx = 1\n",
    "target_probas_2 = probas[text_idx, [0, 1, 2], targets[text_idx]]\n",
    "print(\"Text 2:\", target_probas_2)"
   ]
  },
  {
   "cell_type": "code",
   "execution_count": 24,
   "id": "cc4a5815",
   "metadata": {},
   "outputs": [
    {
     "data": {
      "text/plain": [
       "tensor([-10.5809, -10.6944, -10.1942, -11.4468, -11.4951, -10.7616])"
      ]
     },
     "execution_count": 24,
     "metadata": {},
     "output_type": "execute_result"
    }
   ],
   "source": [
    "log = torch.log(torch.cat((target_probas_1,target_probas_2)))\n",
    "log"
   ]
  },
  {
   "cell_type": "code",
   "execution_count": 25,
   "id": "710bc93f",
   "metadata": {},
   "outputs": [
    {
     "name": "stdout",
     "output_type": "stream",
     "text": [
      "tensor(-10.8622)\n"
     ]
    }
   ],
   "source": [
    "avg_log = torch.mean(log)\n",
    "print(avg_log)"
   ]
  },
  {
   "cell_type": "code",
   "execution_count": 26,
   "id": "53932fd5",
   "metadata": {},
   "outputs": [
    {
     "name": "stdout",
     "output_type": "stream",
     "text": [
      "tensor(10.8622)\n"
     ]
    }
   ],
   "source": [
    "neg_avg_log_probas = avg_log * -1\n",
    "print(neg_avg_log_probas)"
   ]
  },
  {
   "cell_type": "code",
   "execution_count": 27,
   "id": "f3be5126",
   "metadata": {},
   "outputs": [
    {
     "name": "stdout",
     "output_type": "stream",
     "text": [
      "Logits shape: torch.Size([2, 3, 50257])\n",
      "Targets shape: torch.Size([2, 3])\n"
     ]
    }
   ],
   "source": [
    "# Logits have shape (batch_size, num_tokens, vocab_size)\n",
    "print(\"Logits shape:\", logits.shape)\n",
    "\n",
    "# Targets have shape (batch_size, num_tokens)\n",
    "print(\"Targets shape:\", targets.shape)"
   ]
  },
  {
   "cell_type": "code",
   "execution_count": 28,
   "id": "995dd662",
   "metadata": {},
   "outputs": [
    {
     "name": "stdout",
     "output_type": "stream",
     "text": [
      "Flattened logits: torch.Size([6, 50257])\n",
      "Flattened targets: torch.Size([6])\n"
     ]
    }
   ],
   "source": [
    "logits_flat = logits.flatten(0, 1)\n",
    "targets_flat = targets.flatten()\n",
    "\n",
    "print(\"Flattened logits:\", logits_flat.shape)\n",
    "print(\"Flattened targets:\", targets_flat.shape)"
   ]
  },
  {
   "cell_type": "code",
   "execution_count": 29,
   "id": "c4b0f249",
   "metadata": {},
   "outputs": [
    {
     "name": "stdout",
     "output_type": "stream",
     "text": [
      "tensor(10.8622)\n"
     ]
    }
   ],
   "source": [
    "loss = torch.nn.functional.cross_entropy(logits_flat,targets_flat)\n",
    "print(loss)"
   ]
  },
  {
   "cell_type": "code",
   "execution_count": 30,
   "id": "8460c055",
   "metadata": {},
   "outputs": [
    {
     "name": "stdout",
     "output_type": "stream",
     "text": [
      "tensor(52164.6680)\n"
     ]
    }
   ],
   "source": [
    "perplexity = torch.exp(loss)\n",
    "print(perplexity)"
   ]
  },
  {
   "cell_type": "code",
   "execution_count": 31,
   "id": "c4559532",
   "metadata": {},
   "outputs": [],
   "source": [
    "import os\n",
    "import urllib.request\n",
    "\n",
    "file_path = \"the-verdict.txt\"\n",
    "url = \"https://raw.githubusercontent.com/rasbt/LLMs-from-scratch/main/ch02/01_main-chapter-code/the-verdict.txt\"\n",
    "\n",
    "if not os.path.exists(file_path):\n",
    "    with urllib.request.urlopen(url) as responce:\n",
    "        text_data = responce.read().decode('utf-8')\n",
    "    with open(file_path,'w',encoding='utf-8') as responce:\n",
    "        responce.write(text_data)\n",
    "else:\n",
    "    with open(file_path, \"r\", encoding=\"utf-8\") as file:\n",
    "        text_data = file.read()"
   ]
  },
  {
   "cell_type": "code",
   "execution_count": 32,
   "id": "d77ad118",
   "metadata": {},
   "outputs": [
    {
     "name": "stdout",
     "output_type": "stream",
     "text": [
      "I HAD always thought Jack Gisburn rather a cheap genius--though a good fellow enough--so it was no \n"
     ]
    }
   ],
   "source": [
    "print(text_data[:99])"
   ]
  },
  {
   "cell_type": "code",
   "execution_count": 33,
   "id": "09d0a747",
   "metadata": {},
   "outputs": [
    {
     "name": "stdout",
     "output_type": "stream",
     "text": [
      "Characters: 20479\n",
      "Tokens: 5145\n"
     ]
    }
   ],
   "source": [
    "total_characters = len(text_data)\n",
    "total_tokens = len(tokenizer.encode(text_data))\n",
    "\n",
    "print(\"Characters:\", total_characters)\n",
    "print(\"Tokens:\", total_tokens)"
   ]
  },
  {
   "cell_type": "code",
   "execution_count": 34,
   "id": "087eee2c",
   "metadata": {},
   "outputs": [],
   "source": [
    "train_ratio = 0.9\n",
    "split_idx = int(train_ratio * len(text_data))\n",
    "train_data = text_data[:split_idx]\n",
    "val_data = text_data[split_idx:]\n",
    "\n",
    "torch.manual_seed(123)\n",
    "\n",
    "train_loader = create_dataloader_v1(\n",
    "    train_data,\n",
    "    batch_size=2,\n",
    "    max_length=GPT_CONFIG_124M[\"context_length\"],\n",
    "    stride=GPT_CONFIG_124M[\"context_length\"],\n",
    "    drop_last=True,\n",
    "    shuffle=True,\n",
    "    num_workers=0\n",
    ")\n",
    "\n",
    "val_loader = create_dataloader_v1(\n",
    "    val_data,\n",
    "    batch_size=2,\n",
    "    max_length=GPT_CONFIG_124M[\"context_length\"],\n",
    "    stride=GPT_CONFIG_124M[\"context_length\"],\n",
    "    drop_last=False,\n",
    "    shuffle=False,\n",
    "    num_workers=0)\n"
   ]
  },
  {
   "cell_type": "code",
   "execution_count": 35,
   "id": "7173bee3",
   "metadata": {},
   "outputs": [
    {
     "name": "stdout",
     "output_type": "stream",
     "text": [
      "torch.Size([2, 256]) torch.Size([2, 256])\n",
      "torch.Size([2, 256]) torch.Size([2, 256])\n",
      "torch.Size([2, 256]) torch.Size([2, 256])\n",
      "torch.Size([2, 256]) torch.Size([2, 256])\n",
      "torch.Size([2, 256]) torch.Size([2, 256])\n",
      "torch.Size([2, 256]) torch.Size([2, 256])\n",
      "torch.Size([2, 256]) torch.Size([2, 256])\n",
      "torch.Size([2, 256]) torch.Size([2, 256])\n",
      "torch.Size([2, 256]) torch.Size([2, 256])\n",
      "val_loader\n",
      "torch.Size([2, 256]) torch.Size([2, 256])\n"
     ]
    }
   ],
   "source": [
    "for x,y in train_loader:\n",
    "    print(x.shape,y.shape)\n",
    " \n",
    "print('val_loader')\n",
    "for x,y in val_loader:\n",
    "    print(x.shape,y.shape)\n"
   ]
  },
  {
   "cell_type": "code",
   "execution_count": 36,
   "id": "5db9a2b6",
   "metadata": {},
   "outputs": [
    {
     "name": "stdout",
     "output_type": "stream",
     "text": [
      "Training tokens: 4608\n",
      "Validation tokens: 512\n",
      "All tokens: 5120\n"
     ]
    }
   ],
   "source": [
    "train_tokens = 0\n",
    "for input_batch, target_batch in train_loader:\n",
    "    train_tokens += input_batch.numel()\n",
    "\n",
    "val_tokens = 0\n",
    "for input_batch, target_batch in val_loader:\n",
    "    val_tokens += input_batch.numel()\n",
    "\n",
    "print(\"Training tokens:\", train_tokens)\n",
    "print(\"Validation tokens:\", val_tokens)\n",
    "print(\"All tokens:\", train_tokens + val_tokens)"
   ]
  },
  {
   "cell_type": "code",
   "execution_count": 37,
   "id": "42ebc43a",
   "metadata": {},
   "outputs": [],
   "source": [
    "def calc_loss_batch(input_batch, target_batch, model, device):\n",
    "    input_batch, target_batch = input_batch.to(device), target_batch.to(device)\n",
    "    logits = model(input_batch)\n",
    "    loss = torch.nn.functional.cross_entropy(logits.flatten(0, 1), target_batch.flatten())\n",
    "    return loss\n",
    "\n",
    "\n",
    "def calc_loss_loader(data_loader, model, device, num_batches=None):\n",
    "    total_loss = 0.\n",
    "    if len(data_loader) == 0:\n",
    "        return float(\"nan\")\n",
    "    elif num_batches is None:\n",
    "        num_batches = len(data_loader)\n",
    "    else:\n",
    "        num_batches = min(num_batches, len(data_loader))\n",
    "    for i, (input_batch, target_batch) in enumerate(data_loader):\n",
    "        if i < num_batches:\n",
    "            loss = calc_loss_batch(input_batch, target_batch, model, device)\n",
    "            total_loss += loss.item()\n",
    "        else:\n",
    "            break\n",
    "    return total_loss / num_batches"
   ]
  },
  {
   "cell_type": "code",
   "execution_count": 38,
   "id": "46e53476",
   "metadata": {},
   "outputs": [
    {
     "name": "stdout",
     "output_type": "stream",
     "text": [
      "Training loss: 10.979520161946615\n",
      "Validation loss: 11.009520530700684\n"
     ]
    }
   ],
   "source": [
    "device = torch.device('cuda' if torch.cuda.is_available() else 'cpu')\n",
    "\n",
    "model.to(device)\n",
    "torch.manual_seed(123)\n",
    "\n",
    "with torch.no_grad():\n",
    "    train_loss = calc_loss_loader(train_loader, model, device)\n",
    "    val_loss = calc_loss_loader(val_loader, model, device)\n",
    "\n",
    "print(\"Training loss:\", train_loss)\n",
    "print(\"Validation loss:\", val_loss)"
   ]
  },
  {
   "cell_type": "code",
   "execution_count": 39,
   "id": "ae988024",
   "metadata": {},
   "outputs": [],
   "source": [
    "def evaluate_model(model, train_loader, val_loader, device, eval_iter):\n",
    "    model.eval()\n",
    "    with torch.no_grad():\n",
    "        train_loss = calc_loss_loader(train_loader, model, device, num_batches=eval_iter)\n",
    "        val_loss = calc_loss_loader(val_loader, model, device, num_batches=eval_iter)\n",
    "    model.train()\n",
    "    return train_loss, val_loss\n",
    "\n",
    "def generate_and_print_sample(model, tokenizer, device, start_context):\n",
    "    model.eval()\n",
    "    context_size = model.pos_emb.weight.shape[0]\n",
    "    encoded = text_to_token_ids(start_context, tokenizer).to(device)\n",
    "    with torch.no_grad():\n",
    "        token_ids = generate_new_text(\n",
    "            model=model, idx=encoded,\n",
    "            max_iteration=50, context_size=context_size\n",
    "        )\n",
    "    decoded_text = token_ids_to_text(token_ids, tokenizer)\n",
    "    print(decoded_text.replace(\"\\n\", \" \"))  # Compact print format\n",
    "    model.train()"
   ]
  },
  {
   "cell_type": "code",
   "execution_count": 40,
   "id": "cec111e0",
   "metadata": {},
   "outputs": [],
   "source": [
    "def train_model(train_loader,val_loader,optimizer,model,device,num_epochs,eval_freq,eval_iter\n",
    "                ,start_context,tokenizer):\n",
    "    train_losses,val_losses,track_tokens_seen = [],[],[]\n",
    "    tokens_seen,global_step = 0,-1\n",
    "    \n",
    "    for epoch in range(num_epochs):\n",
    "        model.train()\n",
    "        \n",
    "        for input_batch,target_batch in train_loader:\n",
    "            optimizer.zero_grad()\n",
    "            loss = calc_loss_batch(input_batch, target_batch, model, device)\n",
    "            loss.backward()\n",
    "            optimizer.step()\n",
    "            tokens_seen += input_batch.numel()\n",
    "            \n",
    "            global_step += 1\n",
    "            \n",
    "            if global_step % eval_freq == 0: \n",
    "                train_loss, val_loss = evaluate_model(\n",
    "                    model, train_loader, val_loader, device, eval_iter)\n",
    "                train_losses.append(train_loss)\n",
    "                val_losses.append(val_loss)\n",
    "                track_tokens_seen.append(tokens_seen)\n",
    "                print(f\"Ep {epoch+1} (Step {global_step:06d}): \"\n",
    "                    f\"Train loss {train_loss:.3f}, Val loss {val_loss:.3f}\")\n",
    "                \n",
    "        generate_and_print_sample(\n",
    "            model, tokenizer, device, start_context\n",
    "        )\n",
    "\n",
    "    return train_losses, val_losses, track_tokens_seen   "
   ]
  },
  {
   "cell_type": "code",
   "execution_count": 41,
   "id": "61040a02",
   "metadata": {},
   "outputs": [
    {
     "name": "stdout",
     "output_type": "stream",
     "text": [
      "Ep 1 (Step 000000): Train loss 9.904, Val loss 10.037\n",
      "Ep 1 (Step 000005): Train loss 8.096, Val loss 8.263\n",
      "Every effort moves you,,,,,,,,,,,,,,,,,,,,,,,,,,,,,,,,,,,,,,,,,,,,,,,,,,\n",
      "Ep 2 (Step 000010): Train loss 6.719, Val loss 6.988\n",
      "Ep 2 (Step 000015): Train loss 5.925, Val loss 6.508\n",
      "Every effort moves you, and, and, and, and, and, and, and, and, and, and, and, and, and, and, and, and, and, and, and, and, and, and, and, and, and\n",
      "Ep 3 (Step 000020): Train loss 5.785, Val loss 6.436\n",
      "Ep 3 (Step 000025): Train loss 5.284, Val loss 6.471\n",
      "Every effort moves youburnburnburn'sburn Jacketburn's �isburn Truth SetTextColor.                                    \n",
      "Ep 4 (Step 000030): Train loss 5.609, Val loss 6.565\n",
      "Ep 4 (Step 000035): Train loss 5.361, Val loss 6.455\n",
      "Every effort moves you, the, the of the, the of the the--. Gis of the, the was, the. \". Gis the., the of the my, the. Gis the of the of the. Gis the of\n",
      "Ep 5 (Step 000040): Train loss 4.897, Val loss 6.379\n",
      "Every effort moves you I felt        \"--as. I had been, and I had been.             \"--as I had been, and his I had been. G\n",
      "Ep 6 (Step 000045): Train loss 4.024, Val loss 6.291\n",
      "Ep 6 (Step 000050): Train loss 3.919, Val loss 6.239\n",
      "Every effort moves you of the fact, and I felt.        \"--and--and--and, and had been to the fact, and his painting.               \n",
      "Ep 7 (Step 000055): Train loss 3.111, Val loss 6.235\n",
      "Ep 7 (Step 000060): Train loss 3.081, Val loss 6.192\n",
      "Every effort moves you of the was not that the picture--and--I told Mrs.           \"--as, I had a little that he had married her. I had married her.      \n",
      "Ep 8 (Step 000065): Train loss 2.680, Val loss 6.229\n",
      "Ep 8 (Step 000070): Train loss 2.133, Val loss 6.226\n",
      "Every effort moves you know.\"    \"--as he had been the picture--had not existed till nearly a year after Jack's resolve had been taken.      \"--his his own sex, my dear, he didn't want\n",
      "Ep 9 (Step 000075): Train loss 1.768, Val loss 6.257\n",
      "Ep 9 (Step 000080): Train loss 1.408, Val loss 6.292\n",
      "Every effort moves you of the inevitable garlanded to have to face the fact with a laugh: \"Yes--and by me to me to have to see a smile, I felt him, as his pictures--the quality of Jack's \"strongest,\" he had\n",
      "Ep 10 (Step 000085): Train loss 1.266, Val loss 6.316\n",
      "Every effort moves you of Hermia's tears I felt able to face the fact with equanimity.    \" went on a little to see a smile behind his close grayish beard--as if he had the donkey. \"Oh, I had\n",
      "Training completed in 11.28 minutes.\n"
     ]
    }
   ],
   "source": [
    "import time \n",
    "start_time = time.time()\n",
    "torch.manual_seed(123)\n",
    "model = GPT2(GPT_CONFIG_124M)\n",
    "optimizer = torch.optim.AdamW(model.parameters(),lr=0.0004,weight_decay=0.1)\n",
    "\n",
    "num_epoches = 10\n",
    "train_loss,val_loss,token_seen = train_model(\n",
    "    train_loader,val_loader,optimizer,model,device,num_epoches,5,5,start_context=\"Every effort moves you\", tokenizer=tokenizer\n",
    ")\n",
    "\n",
    "end_time = time.time()\n",
    "execution_time_minutes = (end_time - start_time) / 60\n",
    "print(f\"Training completed in {execution_time_minutes:.2f} minutes.\")"
   ]
  },
  {
   "cell_type": "code",
   "execution_count": 44,
   "id": "a28484e8",
   "metadata": {},
   "outputs": [
    {
     "name": "stdout",
     "output_type": "stream",
     "text": [
      "Output text:\n",
      " Every effort moves you of Jack Gisburn's a cheap genius--though a good fellow enough--so it was no great surprise to me to\n"
     ]
    }
   ],
   "source": [
    "tokenizer = tiktoken.get_encoding(\"gpt2\")\n",
    "\n",
    "token_ids = generate_new_text(\n",
    "    model=model,\n",
    "    idx=text_to_token_ids(\"Every effort moves you\", tokenizer),\n",
    "    max_iteration=25,\n",
    "    context_size=GPT_CONFIG_124M[\"context_length\"]\n",
    ")\n",
    "\n",
    "print(\"Output text:\\n\", token_ids_to_text(token_ids, tokenizer))"
   ]
  },
  {
   "cell_type": "code",
   "execution_count": 45,
   "id": "3db9cc43",
   "metadata": {},
   "outputs": [],
   "source": [
    "next_token_logits = torch.tensor(\n",
    "[4.51, 0.89, -1.90, 6.75, 1.63, -1.62, -1.89, 6.28, 1.79])"
   ]
  },
  {
   "cell_type": "code",
   "execution_count": 46,
   "id": "996d9a87",
   "metadata": {},
   "outputs": [],
   "source": [
    "vocab = { \n",
    "    \"closer\": 0,\n",
    "    \"every\": 1, \n",
    "    \"effort\": 2, \n",
    "    \"forward\": 3,\n",
    "    \"inches\": 4,\n",
    "    \"moves\": 5, \n",
    "    \"pizza\": 6,\n",
    "    \"toward\": 7,\n",
    "    \"you\": 8,\n",
    "} \n",
    "\n",
    "inverse_vocab = {v: k for k, v in vocab.items()}"
   ]
  },
  {
   "cell_type": "code",
   "execution_count": 47,
   "id": "d6598bcc",
   "metadata": {},
   "outputs": [
    {
     "name": "stdout",
     "output_type": "stream",
     "text": [
      "forward\n"
     ]
    }
   ],
   "source": [
    "probas = torch.softmax(next_token_logits, dim=0)\n",
    "next_token_id = torch.argmax(probas).item()\n",
    "print(inverse_vocab[next_token_id])"
   ]
  },
  {
   "cell_type": "code",
   "execution_count": 48,
   "id": "3cc6eb89",
   "metadata": {},
   "outputs": [
    {
     "name": "stdout",
     "output_type": "stream",
     "text": [
      "toward\n"
     ]
    }
   ],
   "source": [
    "torch.manual_seed(123)\n",
    "next_token_id = torch.multinomial(probas, num_samples=1).item()\n",
    "print(inverse_vocab[next_token_id])"
   ]
  },
  {
   "cell_type": "code",
   "execution_count": 49,
   "id": "85d48d16",
   "metadata": {},
   "outputs": [
    {
     "name": "stdout",
     "output_type": "stream",
     "text": [
      "71 x closer\n",
      "2 x every\n",
      "0 x effort\n",
      "544 x forward\n",
      "2 x inches\n",
      "1 x moves\n",
      "0 x pizza\n",
      "376 x toward\n",
      "4 x you\n"
     ]
    }
   ],
   "source": [
    "def print_sampled_tokens(probas):\n",
    "    torch.manual_seed(123)\n",
    "    sample = [torch.multinomial(probas, num_samples=1).item() for i in range(1_000)]\n",
    "    sampled_ids = torch.bincount(torch.tensor(sample))\n",
    "    for i, freq in enumerate(sampled_ids):\n",
    "        print(f\"{freq} x {inverse_vocab[i]}\")\n",
    "\n",
    "print_sampled_tokens(probas)"
   ]
  },
  {
   "cell_type": "code",
   "execution_count": 50,
   "id": "779bffdd",
   "metadata": {},
   "outputs": [],
   "source": [
    "def softmax_with_temperature(logits, temperature):\n",
    "    scaled_logits = logits / temperature\n",
    "    return torch.softmax(scaled_logits, dim=0)\n",
    "\n",
    "temperatures = [1, 0.1, 5]\n",
    "\n",
    "scaled_probas = [softmax_with_temperature(next_token_logits, T) for T in temperatures]"
   ]
  },
  {
   "cell_type": "code",
   "execution_count": 53,
   "id": "a80a2e40",
   "metadata": {},
   "outputs": [
    {
     "data": {
      "image/png": "[encoded data removed]",
      "text/plain": [
       "<Figure size 500x300 with 1 Axes>"
      ]
     },
     "metadata": {},
     "output_type": "display_data"
    }
   ],
   "source": [
    "import matplotlib.pyplot as plt\n",
    "\n",
    "x = torch.arange(len(vocab))\n",
    "bar_width = 0.15\n",
    "\n",
    "fig, ax = plt.subplots(figsize=(5, 3))\n",
    "for i, T in enumerate(temperatures):\n",
    "    rects = ax.bar(x + i * bar_width, scaled_probas[i], bar_width, label=f'Temperature = {T}')\n",
    "\n",
    "ax.set_ylabel('Probability')\n",
    "ax.set_xticks(x)\n",
    "ax.set_xticklabels(vocab.keys(), rotation=90)\n",
    "ax.legend()\n",
    "\n",
    "plt.tight_layout()\n",
    "plt.savefig(\"temperature-plot.pdf\")\n",
    "plt.show()"
   ]
  },
  {
   "cell_type": "code",
   "execution_count": 54,
   "id": "e5d3d644",
   "metadata": {},
   "outputs": [],
   "source": [
    "next_token_logits = torch.tensor(\n",
    "[4.51, 0.89, -1.90, 6.75, 1.63, -1.62, -1.89, 6.28, 1.79]\n",
    ")"
   ]
  },
  {
   "cell_type": "code",
   "execution_count": 55,
   "id": "8104cf25",
   "metadata": {},
   "outputs": [
    {
     "name": "stdout",
     "output_type": "stream",
     "text": [
      "Top logits: tensor([6.7500, 6.2800, 4.5100])\n",
      "Top positions: tensor([3, 7, 0])\n"
     ]
    }
   ],
   "source": [
    "top_k = 3\n",
    "top_logits, top_pos = torch.topk(next_token_logits, top_k)\n",
    "print(\"Top logits:\", top_logits)\n",
    "print(\"Top positions:\", top_pos)"
   ]
  },
  {
   "cell_type": "code",
   "execution_count": 56,
   "id": "c88a47b2",
   "metadata": {},
   "outputs": [
    {
     "name": "stdout",
     "output_type": "stream",
     "text": [
      "tensor([4.5100,   -inf,   -inf, 6.7500,   -inf,   -inf,   -inf, 6.2800,   -inf])\n"
     ]
    }
   ],
   "source": [
    "new_logits = torch.where(\n",
    "    condition=next_token_logits < top_logits[-1],\n",
    "    input=torch.tensor(float(\"-inf\")), \n",
    "    other=next_token_logits\n",
    ")\n",
    "\n",
    "print(new_logits)"
   ]
  },
  {
   "cell_type": "code",
   "execution_count": 57,
   "id": "a9c2ab3b",
   "metadata": {},
   "outputs": [
    {
     "name": "stdout",
     "output_type": "stream",
     "text": [
      "tensor([0.0615, 0.0000, 0.0000, 0.5775, 0.0000, 0.0000, 0.0000, 0.3610, 0.0000])\n"
     ]
    }
   ],
   "source": [
    "topk_probas = torch.softmax(new_logits, dim=0)\n",
    "print(topk_probas)"
   ]
  },
  {
   "cell_type": "code",
   "execution_count": 58,
   "id": "41b3fb34",
   "metadata": {},
   "outputs": [],
   "source": [
    "from gpt_download3 import download_and_load_gpt2"
   ]
  },
  {
   "cell_type": "code",
   "execution_count": 64,
   "id": "e239bf2b",
   "metadata": {},
   "outputs": [
    {
     "name": "stderr",
     "output_type": "stream",
     "text": [
      "C:\\Users\\prate\\AppData\\Roaming\\Python\\Python311\\site-packages\\urllib3\\connectionpool.py:1097: InsecureRequestWarning: Unverified HTTPS request is being made to host 'openaipublic.blob.core.windows.net'. Adding certificate verification is strongly advised. See: https://urllib3.readthedocs.io/en/latest/advanced-usage.html#tls-warnings\n",
      "  warnings.warn(\n"
     ]
    },
    {
     "name": "stdout",
     "output_type": "stream",
     "text": [
      "File already exists and is up-to-date: gpt2\\124M\\checkpoint\n"
     ]
    },
    {
     "name": "stderr",
     "output_type": "stream",
     "text": [
      "C:\\Users\\prate\\AppData\\Roaming\\Python\\Python311\\site-packages\\urllib3\\connectionpool.py:1097: InsecureRequestWarning: Unverified HTTPS request is being made to host 'openaipublic.blob.core.windows.net'. Adding certificate verification is strongly advised. See: https://urllib3.readthedocs.io/en/latest/advanced-usage.html#tls-warnings\n",
      "  warnings.warn(\n"
     ]
    },
    {
     "name": "stdout",
     "output_type": "stream",
     "text": [
      "File already exists and is up-to-date: gpt2\\124M\\encoder.json\n"
     ]
    },
    {
     "name": "stderr",
     "output_type": "stream",
     "text": [
      "C:\\Users\\prate\\AppData\\Roaming\\Python\\Python311\\site-packages\\urllib3\\connectionpool.py:1097: InsecureRequestWarning: Unverified HTTPS request is being made to host 'openaipublic.blob.core.windows.net'. Adding certificate verification is strongly advised. See: https://urllib3.readthedocs.io/en/latest/advanced-usage.html#tls-warnings\n",
      "  warnings.warn(\n"
     ]
    },
    {
     "name": "stdout",
     "output_type": "stream",
     "text": [
      "File already exists and is up-to-date: gpt2\\124M\\hparams.json\n"
     ]
    },
    {
     "name": "stderr",
     "output_type": "stream",
     "text": [
      "C:\\Users\\prate\\AppData\\Roaming\\Python\\Python311\\site-packages\\urllib3\\connectionpool.py:1097: InsecureRequestWarning: Unverified HTTPS request is being made to host 'openaipublic.blob.core.windows.net'. Adding certificate verification is strongly advised. See: https://urllib3.readthedocs.io/en/latest/advanced-usage.html#tls-warnings\n",
      "  warnings.warn(\n"
     ]
    },
    {
     "name": "stdout",
     "output_type": "stream",
     "text": [
      "File already exists and is up-to-date: gpt2\\124M\\model.ckpt.data-00000-of-00001\n"
     ]
    },
    {
     "name": "stderr",
     "output_type": "stream",
     "text": [
      "C:\\Users\\prate\\AppData\\Roaming\\Python\\Python311\\site-packages\\urllib3\\connectionpool.py:1097: InsecureRequestWarning: Unverified HTTPS request is being made to host 'openaipublic.blob.core.windows.net'. Adding certificate verification is strongly advised. See: https://urllib3.readthedocs.io/en/latest/advanced-usage.html#tls-warnings\n",
      "  warnings.warn(\n"
     ]
    },
    {
     "name": "stdout",
     "output_type": "stream",
     "text": [
      "File already exists and is up-to-date: gpt2\\124M\\model.ckpt.index\n"
     ]
    },
    {
     "name": "stderr",
     "output_type": "stream",
     "text": [
      "C:\\Users\\prate\\AppData\\Roaming\\Python\\Python311\\site-packages\\urllib3\\connectionpool.py:1097: InsecureRequestWarning: Unverified HTTPS request is being made to host 'openaipublic.blob.core.windows.net'. Adding certificate verification is strongly advised. See: https://urllib3.readthedocs.io/en/latest/advanced-usage.html#tls-warnings\n",
      "  warnings.warn(\n"
     ]
    },
    {
     "name": "stdout",
     "output_type": "stream",
     "text": [
      "File already exists and is up-to-date: gpt2\\124M\\model.ckpt.meta\n"
     ]
    },
    {
     "name": "stderr",
     "output_type": "stream",
     "text": [
      "C:\\Users\\prate\\AppData\\Roaming\\Python\\Python311\\site-packages\\urllib3\\connectionpool.py:1097: InsecureRequestWarning: Unverified HTTPS request is being made to host 'openaipublic.blob.core.windows.net'. Adding certificate verification is strongly advised. See: https://urllib3.readthedocs.io/en/latest/advanced-usage.html#tls-warnings\n",
      "  warnings.warn(\n"
     ]
    },
    {
     "name": "stdout",
     "output_type": "stream",
     "text": [
      "File already exists and is up-to-date: gpt2\\124M\\vocab.bpe\n"
     ]
    }
   ],
   "source": [
    "settings,params = download_and_load_gpt2(model_size=\"124M\", models_dir=\"gpt2\")"
   ]
  },
  {
   "cell_type": "code",
   "execution_count": 59,
   "id": "294b026c",
   "metadata": {},
   "outputs": [],
   "source": [
    "model_configs = {\n",
    "    \"gpt2-small (124M)\": {\"emb_dim\": 768, \"num_layers\": 12, \"num_heads\": 12},\n",
    "    \"gpt2-medium (355M)\": {\"emb_dim\": 1024, \"num_layers\": 24, \"num_heads\": 16},\n",
    "    \"gpt2-large (774M)\": {\"emb_dim\": 1280, \"num_layers\": 36, \"num_heads\": 20},\n",
    "    \"gpt2-xl (1558M)\": {\"emb_dim\": 1600, \"num_layers\": 48, \"num_heads\": 25},\n",
    "}\n",
    "\n",
    "# Copy the base configuration and update with specific model settings\n",
    "model_name = \"gpt2-small (124M)\"  # Example model name\n",
    "NEW_CONFIG = GPT_CONFIG_124M.copy()\n",
    "NEW_CONFIG.update(model_configs[model_name])"
   ]
  },
  {
   "cell_type": "code",
   "execution_count": 60,
   "id": "3ab20e14",
   "metadata": {},
   "outputs": [
    {
     "data": {
      "text/plain": [
       "GPT2(\n",
       "  (tok_emb): Embedding(50257, 768)\n",
       "  (pos_emb): Embedding(1024, 768)\n",
       "  (drop_emb): Dropout(p=0.1, inplace=False)\n",
       "  (trf_blocks): Sequential(\n",
       "    (0): Transformerblock(\n",
       "      (MultiHeadattation_instance): MultiHeadattation(\n",
       "        (out_proj): Linear(in_features=768, out_features=768, bias=True)\n",
       "        (q_weight): Linear(in_features=768, out_features=768, bias=False)\n",
       "        (k_weight): Linear(in_features=768, out_features=768, bias=False)\n",
       "        (v_weight): Linear(in_features=768, out_features=768, bias=False)\n",
       "        (dropout): Dropout(p=0.1, inplace=False)\n",
       "      )\n",
       "      (att): MultiHeadattation(\n",
       "        (out_proj): Linear(in_features=768, out_features=768, bias=True)\n",
       "        (q_weight): Linear(in_features=768, out_features=768, bias=True)\n",
       "        (k_weight): Linear(in_features=768, out_features=768, bias=True)\n",
       "        (v_weight): Linear(in_features=768, out_features=768, bias=True)\n",
       "        (dropout): Dropout(p=0.1, inplace=False)\n",
       "      )\n",
       "      (ff): FeedForward(\n",
       "        (layers): Sequential(\n",
       "          (0): Linear(in_features=768, out_features=3072, bias=True)\n",
       "          (1): GELU()\n",
       "          (2): Linear(in_features=3072, out_features=768, bias=True)\n",
       "        )\n",
       "      )\n",
       "      (norm1): LayerNormalization()\n",
       "      (norm2): LayerNormalization()\n",
       "      (drop_shortcut): Dropout(p=0.1, inplace=False)\n",
       "    )\n",
       "    (1): Transformerblock(\n",
       "      (MultiHeadattation_instance): MultiHeadattation(\n",
       "        (out_proj): Linear(in_features=768, out_features=768, bias=True)\n",
       "        (q_weight): Linear(in_features=768, out_features=768, bias=False)\n",
       "        (k_weight): Linear(in_features=768, out_features=768, bias=False)\n",
       "        (v_weight): Linear(in_features=768, out_features=768, bias=False)\n",
       "        (dropout): Dropout(p=0.1, inplace=False)\n",
       "      )\n",
       "      (att): MultiHeadattation(\n",
       "        (out_proj): Linear(in_features=768, out_features=768, bias=True)\n",
       "        (q_weight): Linear(in_features=768, out_features=768, bias=True)\n",
       "        (k_weight): Linear(in_features=768, out_features=768, bias=True)\n",
       "        (v_weight): Linear(in_features=768, out_features=768, bias=True)\n",
       "        (dropout): Dropout(p=0.1, inplace=False)\n",
       "      )\n",
       "      (ff): FeedForward(\n",
       "        (layers): Sequential(\n",
       "          (0): Linear(in_features=768, out_features=3072, bias=True)\n",
       "          (1): GELU()\n",
       "          (2): Linear(in_features=3072, out_features=768, bias=True)\n",
       "        )\n",
       "      )\n",
       "      (norm1): LayerNormalization()\n",
       "      (norm2): LayerNormalization()\n",
       "      (drop_shortcut): Dropout(p=0.1, inplace=False)\n",
       "    )\n",
       "    (2): Transformerblock(\n",
       "      (MultiHeadattation_instance): MultiHeadattation(\n",
       "        (out_proj): Linear(in_features=768, out_features=768, bias=True)\n",
       "        (q_weight): Linear(in_features=768, out_features=768, bias=False)\n",
       "        (k_weight): Linear(in_features=768, out_features=768, bias=False)\n",
       "        (v_weight): Linear(in_features=768, out_features=768, bias=False)\n",
       "        (dropout): Dropout(p=0.1, inplace=False)\n",
       "      )\n",
       "      (att): MultiHeadattation(\n",
       "        (out_proj): Linear(in_features=768, out_features=768, bias=True)\n",
       "        (q_weight): Linear(in_features=768, out_features=768, bias=True)\n",
       "        (k_weight): Linear(in_features=768, out_features=768, bias=True)\n",
       "        (v_weight): Linear(in_features=768, out_features=768, bias=True)\n",
       "        (dropout): Dropout(p=0.1, inplace=False)\n",
       "      )\n",
       "      (ff): FeedForward(\n",
       "        (layers): Sequential(\n",
       "          (0): Linear(in_features=768, out_features=3072, bias=True)\n",
       "          (1): GELU()\n",
       "          (2): Linear(in_features=3072, out_features=768, bias=True)\n",
       "        )\n",
       "      )\n",
       "      (norm1): LayerNormalization()\n",
       "      (norm2): LayerNormalization()\n",
       "      (drop_shortcut): Dropout(p=0.1, inplace=False)\n",
       "    )\n",
       "    (3): Transformerblock(\n",
       "      (MultiHeadattation_instance): MultiHeadattation(\n",
       "        (out_proj): Linear(in_features=768, out_features=768, bias=True)\n",
       "        (q_weight): Linear(in_features=768, out_features=768, bias=False)\n",
       "        (k_weight): Linear(in_features=768, out_features=768, bias=False)\n",
       "        (v_weight): Linear(in_features=768, out_features=768, bias=False)\n",
       "        (dropout): Dropout(p=0.1, inplace=False)\n",
       "      )\n",
       "      (att): MultiHeadattation(\n",
       "        (out_proj): Linear(in_features=768, out_features=768, bias=True)\n",
       "        (q_weight): Linear(in_features=768, out_features=768, bias=True)\n",
       "        (k_weight): Linear(in_features=768, out_features=768, bias=True)\n",
       "        (v_weight): Linear(in_features=768, out_features=768, bias=True)\n",
       "        (dropout): Dropout(p=0.1, inplace=False)\n",
       "      )\n",
       "      (ff): FeedForward(\n",
       "        (layers): Sequential(\n",
       "          (0): Linear(in_features=768, out_features=3072, bias=True)\n",
       "          (1): GELU()\n",
       "          (2): Linear(in_features=3072, out_features=768, bias=True)\n",
       "        )\n",
       "      )\n",
       "      (norm1): LayerNormalization()\n",
       "      (norm2): LayerNormalization()\n",
       "      (drop_shortcut): Dropout(p=0.1, inplace=False)\n",
       "    )\n",
       "    (4): Transformerblock(\n",
       "      (MultiHeadattation_instance): MultiHeadattation(\n",
       "        (out_proj): Linear(in_features=768, out_features=768, bias=True)\n",
       "        (q_weight): Linear(in_features=768, out_features=768, bias=False)\n",
       "        (k_weight): Linear(in_features=768, out_features=768, bias=False)\n",
       "        (v_weight): Linear(in_features=768, out_features=768, bias=False)\n",
       "        (dropout): Dropout(p=0.1, inplace=False)\n",
       "      )\n",
       "      (att): MultiHeadattation(\n",
       "        (out_proj): Linear(in_features=768, out_features=768, bias=True)\n",
       "        (q_weight): Linear(in_features=768, out_features=768, bias=True)\n",
       "        (k_weight): Linear(in_features=768, out_features=768, bias=True)\n",
       "        (v_weight): Linear(in_features=768, out_features=768, bias=True)\n",
       "        (dropout): Dropout(p=0.1, inplace=False)\n",
       "      )\n",
       "      (ff): FeedForward(\n",
       "        (layers): Sequential(\n",
       "          (0): Linear(in_features=768, out_features=3072, bias=True)\n",
       "          (1): GELU()\n",
       "          (2): Linear(in_features=3072, out_features=768, bias=True)\n",
       "        )\n",
       "      )\n",
       "      (norm1): LayerNormalization()\n",
       "      (norm2): LayerNormalization()\n",
       "      (drop_shortcut): Dropout(p=0.1, inplace=False)\n",
       "    )\n",
       "    (5): Transformerblock(\n",
       "      (MultiHeadattation_instance): MultiHeadattation(\n",
       "        (out_proj): Linear(in_features=768, out_features=768, bias=True)\n",
       "        (q_weight): Linear(in_features=768, out_features=768, bias=False)\n",
       "        (k_weight): Linear(in_features=768, out_features=768, bias=False)\n",
       "        (v_weight): Linear(in_features=768, out_features=768, bias=False)\n",
       "        (dropout): Dropout(p=0.1, inplace=False)\n",
       "      )\n",
       "      (att): MultiHeadattation(\n",
       "        (out_proj): Linear(in_features=768, out_features=768, bias=True)\n",
       "        (q_weight): Linear(in_features=768, out_features=768, bias=True)\n",
       "        (k_weight): Linear(in_features=768, out_features=768, bias=True)\n",
       "        (v_weight): Linear(in_features=768, out_features=768, bias=True)\n",
       "        (dropout): Dropout(p=0.1, inplace=False)\n",
       "      )\n",
       "      (ff): FeedForward(\n",
       "        (layers): Sequential(\n",
       "          (0): Linear(in_features=768, out_features=3072, bias=True)\n",
       "          (1): GELU()\n",
       "          (2): Linear(in_features=3072, out_features=768, bias=True)\n",
       "        )\n",
       "      )\n",
       "      (norm1): LayerNormalization()\n",
       "      (norm2): LayerNormalization()\n",
       "      (drop_shortcut): Dropout(p=0.1, inplace=False)\n",
       "    )\n",
       "    (6): Transformerblock(\n",
       "      (MultiHeadattation_instance): MultiHeadattation(\n",
       "        (out_proj): Linear(in_features=768, out_features=768, bias=True)\n",
       "        (q_weight): Linear(in_features=768, out_features=768, bias=False)\n",
       "        (k_weight): Linear(in_features=768, out_features=768, bias=False)\n",
       "        (v_weight): Linear(in_features=768, out_features=768, bias=False)\n",
       "        (dropout): Dropout(p=0.1, inplace=False)\n",
       "      )\n",
       "      (att): MultiHeadattation(\n",
       "        (out_proj): Linear(in_features=768, out_features=768, bias=True)\n",
       "        (q_weight): Linear(in_features=768, out_features=768, bias=True)\n",
       "        (k_weight): Linear(in_features=768, out_features=768, bias=True)\n",
       "        (v_weight): Linear(in_features=768, out_features=768, bias=True)\n",
       "        (dropout): Dropout(p=0.1, inplace=False)\n",
       "      )\n",
       "      (ff): FeedForward(\n",
       "        (layers): Sequential(\n",
       "          (0): Linear(in_features=768, out_features=3072, bias=True)\n",
       "          (1): GELU()\n",
       "          (2): Linear(in_features=3072, out_features=768, bias=True)\n",
       "        )\n",
       "      )\n",
       "      (norm1): LayerNormalization()\n",
       "      (norm2): LayerNormalization()\n",
       "      (drop_shortcut): Dropout(p=0.1, inplace=False)\n",
       "    )\n",
       "    (7): Transformerblock(\n",
       "      (MultiHeadattation_instance): MultiHeadattation(\n",
       "        (out_proj): Linear(in_features=768, out_features=768, bias=True)\n",
       "        (q_weight): Linear(in_features=768, out_features=768, bias=False)\n",
       "        (k_weight): Linear(in_features=768, out_features=768, bias=False)\n",
       "        (v_weight): Linear(in_features=768, out_features=768, bias=False)\n",
       "        (dropout): Dropout(p=0.1, inplace=False)\n",
       "      )\n",
       "      (att): MultiHeadattation(\n",
       "        (out_proj): Linear(in_features=768, out_features=768, bias=True)\n",
       "        (q_weight): Linear(in_features=768, out_features=768, bias=True)\n",
       "        (k_weight): Linear(in_features=768, out_features=768, bias=True)\n",
       "        (v_weight): Linear(in_features=768, out_features=768, bias=True)\n",
       "        (dropout): Dropout(p=0.1, inplace=False)\n",
       "      )\n",
       "      (ff): FeedForward(\n",
       "        (layers): Sequential(\n",
       "          (0): Linear(in_features=768, out_features=3072, bias=True)\n",
       "          (1): GELU()\n",
       "          (2): Linear(in_features=3072, out_features=768, bias=True)\n",
       "        )\n",
       "      )\n",
       "      (norm1): LayerNormalization()\n",
       "      (norm2): LayerNormalization()\n",
       "      (drop_shortcut): Dropout(p=0.1, inplace=False)\n",
       "    )\n",
       "    (8): Transformerblock(\n",
       "      (MultiHeadattation_instance): MultiHeadattation(\n",
       "        (out_proj): Linear(in_features=768, out_features=768, bias=True)\n",
       "        (q_weight): Linear(in_features=768, out_features=768, bias=False)\n",
       "        (k_weight): Linear(in_features=768, out_features=768, bias=False)\n",
       "        (v_weight): Linear(in_features=768, out_features=768, bias=False)\n",
       "        (dropout): Dropout(p=0.1, inplace=False)\n",
       "      )\n",
       "      (att): MultiHeadattation(\n",
       "        (out_proj): Linear(in_features=768, out_features=768, bias=True)\n",
       "        (q_weight): Linear(in_features=768, out_features=768, bias=True)\n",
       "        (k_weight): Linear(in_features=768, out_features=768, bias=True)\n",
       "        (v_weight): Linear(in_features=768, out_features=768, bias=True)\n",
       "        (dropout): Dropout(p=0.1, inplace=False)\n",
       "      )\n",
       "      (ff): FeedForward(\n",
       "        (layers): Sequential(\n",
       "          (0): Linear(in_features=768, out_features=3072, bias=True)\n",
       "          (1): GELU()\n",
       "          (2): Linear(in_features=3072, out_features=768, bias=True)\n",
       "        )\n",
       "      )\n",
       "      (norm1): LayerNormalization()\n",
       "      (norm2): LayerNormalization()\n",
       "      (drop_shortcut): Dropout(p=0.1, inplace=False)\n",
       "    )\n",
       "    (9): Transformerblock(\n",
       "      (MultiHeadattation_instance): MultiHeadattation(\n",
       "        (out_proj): Linear(in_features=768, out_features=768, bias=True)\n",
       "        (q_weight): Linear(in_features=768, out_features=768, bias=False)\n",
       "        (k_weight): Linear(in_features=768, out_features=768, bias=False)\n",
       "        (v_weight): Linear(in_features=768, out_features=768, bias=False)\n",
       "        (dropout): Dropout(p=0.1, inplace=False)\n",
       "      )\n",
       "      (att): MultiHeadattation(\n",
       "        (out_proj): Linear(in_features=768, out_features=768, bias=True)\n",
       "        (q_weight): Linear(in_features=768, out_features=768, bias=True)\n",
       "        (k_weight): Linear(in_features=768, out_features=768, bias=True)\n",
       "        (v_weight): Linear(in_features=768, out_features=768, bias=True)\n",
       "        (dropout): Dropout(p=0.1, inplace=False)\n",
       "      )\n",
       "      (ff): FeedForward(\n",
       "        (layers): Sequential(\n",
       "          (0): Linear(in_features=768, out_features=3072, bias=True)\n",
       "          (1): GELU()\n",
       "          (2): Linear(in_features=3072, out_features=768, bias=True)\n",
       "        )\n",
       "      )\n",
       "      (norm1): LayerNormalization()\n",
       "      (norm2): LayerNormalization()\n",
       "      (drop_shortcut): Dropout(p=0.1, inplace=False)\n",
       "    )\n",
       "    (10): Transformerblock(\n",
       "      (MultiHeadattation_instance): MultiHeadattation(\n",
       "        (out_proj): Linear(in_features=768, out_features=768, bias=True)\n",
       "        (q_weight): Linear(in_features=768, out_features=768, bias=False)\n",
       "        (k_weight): Linear(in_features=768, out_features=768, bias=False)\n",
       "        (v_weight): Linear(in_features=768, out_features=768, bias=False)\n",
       "        (dropout): Dropout(p=0.1, inplace=False)\n",
       "      )\n",
       "      (att): MultiHeadattation(\n",
       "        (out_proj): Linear(in_features=768, out_features=768, bias=True)\n",
       "        (q_weight): Linear(in_features=768, out_features=768, bias=True)\n",
       "        (k_weight): Linear(in_features=768, out_features=768, bias=True)\n",
       "        (v_weight): Linear(in_features=768, out_features=768, bias=True)\n",
       "        (dropout): Dropout(p=0.1, inplace=False)\n",
       "      )\n",
       "      (ff): FeedForward(\n",
       "        (layers): Sequential(\n",
       "          (0): Linear(in_features=768, out_features=3072, bias=True)\n",
       "          (1): GELU()\n",
       "          (2): Linear(in_features=3072, out_features=768, bias=True)\n",
       "        )\n",
       "      )\n",
       "      (norm1): LayerNormalization()\n",
       "      (norm2): LayerNormalization()\n",
       "      (drop_shortcut): Dropout(p=0.1, inplace=False)\n",
       "    )\n",
       "    (11): Transformerblock(\n",
       "      (MultiHeadattation_instance): MultiHeadattation(\n",
       "        (out_proj): Linear(in_features=768, out_features=768, bias=True)\n",
       "        (q_weight): Linear(in_features=768, out_features=768, bias=False)\n",
       "        (k_weight): Linear(in_features=768, out_features=768, bias=False)\n",
       "        (v_weight): Linear(in_features=768, out_features=768, bias=False)\n",
       "        (dropout): Dropout(p=0.1, inplace=False)\n",
       "      )\n",
       "      (att): MultiHeadattation(\n",
       "        (out_proj): Linear(in_features=768, out_features=768, bias=True)\n",
       "        (q_weight): Linear(in_features=768, out_features=768, bias=True)\n",
       "        (k_weight): Linear(in_features=768, out_features=768, bias=True)\n",
       "        (v_weight): Linear(in_features=768, out_features=768, bias=True)\n",
       "        (dropout): Dropout(p=0.1, inplace=False)\n",
       "      )\n",
       "      (ff): FeedForward(\n",
       "        (layers): Sequential(\n",
       "          (0): Linear(in_features=768, out_features=3072, bias=True)\n",
       "          (1): GELU()\n",
       "          (2): Linear(in_features=3072, out_features=768, bias=True)\n",
       "        )\n",
       "      )\n",
       "      (norm1): LayerNormalization()\n",
       "      (norm2): LayerNormalization()\n",
       "      (drop_shortcut): Dropout(p=0.1, inplace=False)\n",
       "    )\n",
       "  )\n",
       "  (final_norm): LayerNormalization()\n",
       "  (out_head): Linear(in_features=768, out_features=50257, bias=False)\n",
       ")"
      ]
     },
     "execution_count": 60,
     "metadata": {},
     "output_type": "execute_result"
    }
   ],
   "source": [
    "NEW_CONFIG.update({\"context_length\": 1024, \"qkv_bias\": True})\n",
    "gpt = GPT2(NEW_CONFIG)\n",
    "gpt.eval()"
   ]
  },
  {
   "cell_type": "code",
   "execution_count": 61,
   "id": "e8e47cb6",
   "metadata": {},
   "outputs": [],
   "source": [
    "def assign(left, right):\n",
    "    if left.shape != right.shape:\n",
    "        raise ValueError(f\"Shape mismatch. Left: {left.shape}, Right: {right.shape}\")\n",
    "    return torch.nn.Parameter(torch.tensor(right))"
   ]
  },
  {
   "cell_type": "code",
   "execution_count": 62,
   "id": "a7c114c2",
   "metadata": {},
   "outputs": [],
   "source": [
    "import numpy as np\n",
    "\n",
    "def load_weights_into_gpt(gpt, params):\n",
    "    gpt.pos_emb.weight = assign(gpt.pos_emb.weight, params['wpe'])\n",
    "    gpt.tok_emb.weight = assign(gpt.tok_emb.weight, params['wte'])\n",
    "    \n",
    "    for b in range(len(params[\"blocks\"])):\n",
    "        q_w, k_w, v_w = np.split(\n",
    "            (params[\"blocks\"][b][\"attn\"][\"c_attn\"])[\"w\"], 3, axis=-1)\n",
    "        gpt.trf_blocks[b].att.q_weight.weight = assign(\n",
    "            gpt.trf_blocks[b].att.q_weight.weight, q_w.T)\n",
    "        gpt.trf_blocks[b].att.k_weight.weight = assign(\n",
    "            gpt.trf_blocks[b].att.k_weight.weight, k_w.T)\n",
    "        gpt.trf_blocks[b].att.v_weight.weight = assign(\n",
    "            gpt.trf_blocks[b].att.v_weight.weight, v_w.T)\n",
    "\n",
    "        q_b, k_b, v_b = np.split(\n",
    "            (params[\"blocks\"][b][\"attn\"][\"c_attn\"])[\"b\"], 3, axis=-1)\n",
    "        gpt.trf_blocks[b].att.q_weight.bias = assign(\n",
    "            gpt.trf_blocks[b].att.q_weight.bias, q_b)\n",
    "        gpt.trf_blocks[b].att.k_weight.bias = assign(\n",
    "            gpt.trf_blocks[b].att.k_weight.bias, k_b)\n",
    "        gpt.trf_blocks[b].att.v_weight.bias = assign(\n",
    "            gpt.trf_blocks[b].att.v_weight.bias, v_b)\n",
    "\n",
    "        gpt.trf_blocks[b].att.out_proj.weight = assign(\n",
    "            gpt.trf_blocks[b].att.out_proj.weight, \n",
    "            params[\"blocks\"][b][\"attn\"][\"c_proj\"][\"w\"].T)\n",
    "        gpt.trf_blocks[b].att.out_proj.bias = assign(\n",
    "            gpt.trf_blocks[b].att.out_proj.bias, \n",
    "            params[\"blocks\"][b][\"attn\"][\"c_proj\"][\"b\"])\n",
    "\n",
    "        gpt.trf_blocks[b].ff.layers[0].weight = assign(\n",
    "            gpt.trf_blocks[b].ff.layers[0].weight, \n",
    "            params[\"blocks\"][b][\"mlp\"][\"c_fc\"][\"w\"].T)\n",
    "        gpt.trf_blocks[b].ff.layers[0].bias = assign(\n",
    "            gpt.trf_blocks[b].ff.layers[0].bias, \n",
    "            params[\"blocks\"][b][\"mlp\"][\"c_fc\"][\"b\"])\n",
    "        gpt.trf_blocks[b].ff.layers[2].weight = assign(\n",
    "            gpt.trf_blocks[b].ff.layers[2].weight, \n",
    "            params[\"blocks\"][b][\"mlp\"][\"c_proj\"][\"w\"].T)\n",
    "        gpt.trf_blocks[b].ff.layers[2].bias = assign(\n",
    "            gpt.trf_blocks[b].ff.layers[2].bias, \n",
    "            params[\"blocks\"][b][\"mlp\"][\"c_proj\"][\"b\"])\n",
    "\n",
    "        gpt.trf_blocks[b].norm1.scale = assign(\n",
    "            gpt.trf_blocks[b].norm1.scale, \n",
    "            params[\"blocks\"][b][\"ln_1\"][\"g\"])\n",
    "        gpt.trf_blocks[b].norm1.shift = assign(\n",
    "            gpt.trf_blocks[b].norm1.shift, \n",
    "            params[\"blocks\"][b][\"ln_1\"][\"b\"])\n",
    "        gpt.trf_blocks[b].norm2.scale = assign(\n",
    "            gpt.trf_blocks[b].norm2.scale, \n",
    "            params[\"blocks\"][b][\"ln_2\"][\"g\"])\n",
    "        gpt.trf_blocks[b].norm2.shift = assign(\n",
    "            gpt.trf_blocks[b].norm2.shift, \n",
    "            params[\"blocks\"][b][\"ln_2\"][\"b\"])\n",
    "\n",
    "    gpt.final_norm.scale = assign(gpt.final_norm.scale, params[\"g\"])\n",
    "    gpt.final_norm.shift = assign(gpt.final_norm.shift, params[\"b\"])\n",
    "    gpt.out_head.weight = assign(gpt.out_head.weight, params[\"wte\"])\n"
   ]
  },
  {
   "cell_type": "code",
   "execution_count": 65,
   "id": "1f8f3df4",
   "metadata": {},
   "outputs": [
    {
     "data": {
      "text/plain": [
       "GPT2(\n",
       "  (tok_emb): Embedding(50257, 768)\n",
       "  (pos_emb): Embedding(1024, 768)\n",
       "  (drop_emb): Dropout(p=0.1, inplace=False)\n",
       "  (trf_blocks): Sequential(\n",
       "    (0): Transformerblock(\n",
       "      (MultiHeadattation_instance): MultiHeadattation(\n",
       "        (out_proj): Linear(in_features=768, out_features=768, bias=True)\n",
       "        (q_weight): Linear(in_features=768, out_features=768, bias=False)\n",
       "        (k_weight): Linear(in_features=768, out_features=768, bias=False)\n",
       "        (v_weight): Linear(in_features=768, out_features=768, bias=False)\n",
       "        (dropout): Dropout(p=0.1, inplace=False)\n",
       "      )\n",
       "      (att): MultiHeadattation(\n",
       "        (out_proj): Linear(in_features=768, out_features=768, bias=True)\n",
       "        (q_weight): Linear(in_features=768, out_features=768, bias=True)\n",
       "        (k_weight): Linear(in_features=768, out_features=768, bias=True)\n",
       "        (v_weight): Linear(in_features=768, out_features=768, bias=True)\n",
       "        (dropout): Dropout(p=0.1, inplace=False)\n",
       "      )\n",
       "      (ff): FeedForward(\n",
       "        (layers): Sequential(\n",
       "          (0): Linear(in_features=768, out_features=3072, bias=True)\n",
       "          (1): GELU()\n",
       "          (2): Linear(in_features=3072, out_features=768, bias=True)\n",
       "        )\n",
       "      )\n",
       "      (norm1): LayerNormalization()\n",
       "      (norm2): LayerNormalization()\n",
       "      (drop_shortcut): Dropout(p=0.1, inplace=False)\n",
       "    )\n",
       "    (1): Transformerblock(\n",
       "      (MultiHeadattation_instance): MultiHeadattation(\n",
       "        (out_proj): Linear(in_features=768, out_features=768, bias=True)\n",
       "        (q_weight): Linear(in_features=768, out_features=768, bias=False)\n",
       "        (k_weight): Linear(in_features=768, out_features=768, bias=False)\n",
       "        (v_weight): Linear(in_features=768, out_features=768, bias=False)\n",
       "        (dropout): Dropout(p=0.1, inplace=False)\n",
       "      )\n",
       "      (att): MultiHeadattation(\n",
       "        (out_proj): Linear(in_features=768, out_features=768, bias=True)\n",
       "        (q_weight): Linear(in_features=768, out_features=768, bias=True)\n",
       "        (k_weight): Linear(in_features=768, out_features=768, bias=True)\n",
       "        (v_weight): Linear(in_features=768, out_features=768, bias=True)\n",
       "        (dropout): Dropout(p=0.1, inplace=False)\n",
       "      )\n",
       "      (ff): FeedForward(\n",
       "        (layers): Sequential(\n",
       "          (0): Linear(in_features=768, out_features=3072, bias=True)\n",
       "          (1): GELU()\n",
       "          (2): Linear(in_features=3072, out_features=768, bias=True)\n",
       "        )\n",
       "      )\n",
       "      (norm1): LayerNormalization()\n",
       "      (norm2): LayerNormalization()\n",
       "      (drop_shortcut): Dropout(p=0.1, inplace=False)\n",
       "    )\n",
       "    (2): Transformerblock(\n",
       "      (MultiHeadattation_instance): MultiHeadattation(\n",
       "        (out_proj): Linear(in_features=768, out_features=768, bias=True)\n",
       "        (q_weight): Linear(in_features=768, out_features=768, bias=False)\n",
       "        (k_weight): Linear(in_features=768, out_features=768, bias=False)\n",
       "        (v_weight): Linear(in_features=768, out_features=768, bias=False)\n",
       "        (dropout): Dropout(p=0.1, inplace=False)\n",
       "      )\n",
       "      (att): MultiHeadattation(\n",
       "        (out_proj): Linear(in_features=768, out_features=768, bias=True)\n",
       "        (q_weight): Linear(in_features=768, out_features=768, bias=True)\n",
       "        (k_weight): Linear(in_features=768, out_features=768, bias=True)\n",
       "        (v_weight): Linear(in_features=768, out_features=768, bias=True)\n",
       "        (dropout): Dropout(p=0.1, inplace=False)\n",
       "      )\n",
       "      (ff): FeedForward(\n",
       "        (layers): Sequential(\n",
       "          (0): Linear(in_features=768, out_features=3072, bias=True)\n",
       "          (1): GELU()\n",
       "          (2): Linear(in_features=3072, out_features=768, bias=True)\n",
       "        )\n",
       "      )\n",
       "      (norm1): LayerNormalization()\n",
       "      (norm2): LayerNormalization()\n",
       "      (drop_shortcut): Dropout(p=0.1, inplace=False)\n",
       "    )\n",
       "    (3): Transformerblock(\n",
       "      (MultiHeadattation_instance): MultiHeadattation(\n",
       "        (out_proj): Linear(in_features=768, out_features=768, bias=True)\n",
       "        (q_weight): Linear(in_features=768, out_features=768, bias=False)\n",
       "        (k_weight): Linear(in_features=768, out_features=768, bias=False)\n",
       "        (v_weight): Linear(in_features=768, out_features=768, bias=False)\n",
       "        (dropout): Dropout(p=0.1, inplace=False)\n",
       "      )\n",
       "      (att): MultiHeadattation(\n",
       "        (out_proj): Linear(in_features=768, out_features=768, bias=True)\n",
       "        (q_weight): Linear(in_features=768, out_features=768, bias=True)\n",
       "        (k_weight): Linear(in_features=768, out_features=768, bias=True)\n",
       "        (v_weight): Linear(in_features=768, out_features=768, bias=True)\n",
       "        (dropout): Dropout(p=0.1, inplace=False)\n",
       "      )\n",
       "      (ff): FeedForward(\n",
       "        (layers): Sequential(\n",
       "          (0): Linear(in_features=768, out_features=3072, bias=True)\n",
       "          (1): GELU()\n",
       "          (2): Linear(in_features=3072, out_features=768, bias=True)\n",
       "        )\n",
       "      )\n",
       "      (norm1): LayerNormalization()\n",
       "      (norm2): LayerNormalization()\n",
       "      (drop_shortcut): Dropout(p=0.1, inplace=False)\n",
       "    )\n",
       "    (4): Transformerblock(\n",
       "      (MultiHeadattation_instance): MultiHeadattation(\n",
       "        (out_proj): Linear(in_features=768, out_features=768, bias=True)\n",
       "        (q_weight): Linear(in_features=768, out_features=768, bias=False)\n",
       "        (k_weight): Linear(in_features=768, out_features=768, bias=False)\n",
       "        (v_weight): Linear(in_features=768, out_features=768, bias=False)\n",
       "        (dropout): Dropout(p=0.1, inplace=False)\n",
       "      )\n",
       "      (att): MultiHeadattation(\n",
       "        (out_proj): Linear(in_features=768, out_features=768, bias=True)\n",
       "        (q_weight): Linear(in_features=768, out_features=768, bias=True)\n",
       "        (k_weight): Linear(in_features=768, out_features=768, bias=True)\n",
       "        (v_weight): Linear(in_features=768, out_features=768, bias=True)\n",
       "        (dropout): Dropout(p=0.1, inplace=False)\n",
       "      )\n",
       "      (ff): FeedForward(\n",
       "        (layers): Sequential(\n",
       "          (0): Linear(in_features=768, out_features=3072, bias=True)\n",
       "          (1): GELU()\n",
       "          (2): Linear(in_features=3072, out_features=768, bias=True)\n",
       "        )\n",
       "      )\n",
       "      (norm1): LayerNormalization()\n",
       "      (norm2): LayerNormalization()\n",
       "      (drop_shortcut): Dropout(p=0.1, inplace=False)\n",
       "    )\n",
       "    (5): Transformerblock(\n",
       "      (MultiHeadattation_instance): MultiHeadattation(\n",
       "        (out_proj): Linear(in_features=768, out_features=768, bias=True)\n",
       "        (q_weight): Linear(in_features=768, out_features=768, bias=False)\n",
       "        (k_weight): Linear(in_features=768, out_features=768, bias=False)\n",
       "        (v_weight): Linear(in_features=768, out_features=768, bias=False)\n",
       "        (dropout): Dropout(p=0.1, inplace=False)\n",
       "      )\n",
       "      (att): MultiHeadattation(\n",
       "        (out_proj): Linear(in_features=768, out_features=768, bias=True)\n",
       "        (q_weight): Linear(in_features=768, out_features=768, bias=True)\n",
       "        (k_weight): Linear(in_features=768, out_features=768, bias=True)\n",
       "        (v_weight): Linear(in_features=768, out_features=768, bias=True)\n",
       "        (dropout): Dropout(p=0.1, inplace=False)\n",
       "      )\n",
       "      (ff): FeedForward(\n",
       "        (layers): Sequential(\n",
       "          (0): Linear(in_features=768, out_features=3072, bias=True)\n",
       "          (1): GELU()\n",
       "          (2): Linear(in_features=3072, out_features=768, bias=True)\n",
       "        )\n",
       "      )\n",
       "      (norm1): LayerNormalization()\n",
       "      (norm2): LayerNormalization()\n",
       "      (drop_shortcut): Dropout(p=0.1, inplace=False)\n",
       "    )\n",
       "    (6): Transformerblock(\n",
       "      (MultiHeadattation_instance): MultiHeadattation(\n",
       "        (out_proj): Linear(in_features=768, out_features=768, bias=True)\n",
       "        (q_weight): Linear(in_features=768, out_features=768, bias=False)\n",
       "        (k_weight): Linear(in_features=768, out_features=768, bias=False)\n",
       "        (v_weight): Linear(in_features=768, out_features=768, bias=False)\n",
       "        (dropout): Dropout(p=0.1, inplace=False)\n",
       "      )\n",
       "      (att): MultiHeadattation(\n",
       "        (out_proj): Linear(in_features=768, out_features=768, bias=True)\n",
       "        (q_weight): Linear(in_features=768, out_features=768, bias=True)\n",
       "        (k_weight): Linear(in_features=768, out_features=768, bias=True)\n",
       "        (v_weight): Linear(in_features=768, out_features=768, bias=True)\n",
       "        (dropout): Dropout(p=0.1, inplace=False)\n",
       "      )\n",
       "      (ff): FeedForward(\n",
       "        (layers): Sequential(\n",
       "          (0): Linear(in_features=768, out_features=3072, bias=True)\n",
       "          (1): GELU()\n",
       "          (2): Linear(in_features=3072, out_features=768, bias=True)\n",
       "        )\n",
       "      )\n",
       "      (norm1): LayerNormalization()\n",
       "      (norm2): LayerNormalization()\n",
       "      (drop_shortcut): Dropout(p=0.1, inplace=False)\n",
       "    )\n",
       "    (7): Transformerblock(\n",
       "      (MultiHeadattation_instance): MultiHeadattation(\n",
       "        (out_proj): Linear(in_features=768, out_features=768, bias=True)\n",
       "        (q_weight): Linear(in_features=768, out_features=768, bias=False)\n",
       "        (k_weight): Linear(in_features=768, out_features=768, bias=False)\n",
       "        (v_weight): Linear(in_features=768, out_features=768, bias=False)\n",
       "        (dropout): Dropout(p=0.1, inplace=False)\n",
       "      )\n",
       "      (att): MultiHeadattation(\n",
       "        (out_proj): Linear(in_features=768, out_features=768, bias=True)\n",
       "        (q_weight): Linear(in_features=768, out_features=768, bias=True)\n",
       "        (k_weight): Linear(in_features=768, out_features=768, bias=True)\n",
       "        (v_weight): Linear(in_features=768, out_features=768, bias=True)\n",
       "        (dropout): Dropout(p=0.1, inplace=False)\n",
       "      )\n",
       "      (ff): FeedForward(\n",
       "        (layers): Sequential(\n",
       "          (0): Linear(in_features=768, out_features=3072, bias=True)\n",
       "          (1): GELU()\n",
       "          (2): Linear(in_features=3072, out_features=768, bias=True)\n",
       "        )\n",
       "      )\n",
       "      (norm1): LayerNormalization()\n",
       "      (norm2): LayerNormalization()\n",
       "      (drop_shortcut): Dropout(p=0.1, inplace=False)\n",
       "    )\n",
       "    (8): Transformerblock(\n",
       "      (MultiHeadattation_instance): MultiHeadattation(\n",
       "        (out_proj): Linear(in_features=768, out_features=768, bias=True)\n",
       "        (q_weight): Linear(in_features=768, out_features=768, bias=False)\n",
       "        (k_weight): Linear(in_features=768, out_features=768, bias=False)\n",
       "        (v_weight): Linear(in_features=768, out_features=768, bias=False)\n",
       "        (dropout): Dropout(p=0.1, inplace=False)\n",
       "      )\n",
       "      (att): MultiHeadattation(\n",
       "        (out_proj): Linear(in_features=768, out_features=768, bias=True)\n",
       "        (q_weight): Linear(in_features=768, out_features=768, bias=True)\n",
       "        (k_weight): Linear(in_features=768, out_features=768, bias=True)\n",
       "        (v_weight): Linear(in_features=768, out_features=768, bias=True)\n",
       "        (dropout): Dropout(p=0.1, inplace=False)\n",
       "      )\n",
       "      (ff): FeedForward(\n",
       "        (layers): Sequential(\n",
       "          (0): Linear(in_features=768, out_features=3072, bias=True)\n",
       "          (1): GELU()\n",
       "          (2): Linear(in_features=3072, out_features=768, bias=True)\n",
       "        )\n",
       "      )\n",
       "      (norm1): LayerNormalization()\n",
       "      (norm2): LayerNormalization()\n",
       "      (drop_shortcut): Dropout(p=0.1, inplace=False)\n",
       "    )\n",
       "    (9): Transformerblock(\n",
       "      (MultiHeadattation_instance): MultiHeadattation(\n",
       "        (out_proj): Linear(in_features=768, out_features=768, bias=True)\n",
       "        (q_weight): Linear(in_features=768, out_features=768, bias=False)\n",
       "        (k_weight): Linear(in_features=768, out_features=768, bias=False)\n",
       "        (v_weight): Linear(in_features=768, out_features=768, bias=False)\n",
       "        (dropout): Dropout(p=0.1, inplace=False)\n",
       "      )\n",
       "      (att): MultiHeadattation(\n",
       "        (out_proj): Linear(in_features=768, out_features=768, bias=True)\n",
       "        (q_weight): Linear(in_features=768, out_features=768, bias=True)\n",
       "        (k_weight): Linear(in_features=768, out_features=768, bias=True)\n",
       "        (v_weight): Linear(in_features=768, out_features=768, bias=True)\n",
       "        (dropout): Dropout(p=0.1, inplace=False)\n",
       "      )\n",
       "      (ff): FeedForward(\n",
       "        (layers): Sequential(\n",
       "          (0): Linear(in_features=768, out_features=3072, bias=True)\n",
       "          (1): GELU()\n",
       "          (2): Linear(in_features=3072, out_features=768, bias=True)\n",
       "        )\n",
       "      )\n",
       "      (norm1): LayerNormalization()\n",
       "      (norm2): LayerNormalization()\n",
       "      (drop_shortcut): Dropout(p=0.1, inplace=False)\n",
       "    )\n",
       "    (10): Transformerblock(\n",
       "      (MultiHeadattation_instance): MultiHeadattation(\n",
       "        (out_proj): Linear(in_features=768, out_features=768, bias=True)\n",
       "        (q_weight): Linear(in_features=768, out_features=768, bias=False)\n",
       "        (k_weight): Linear(in_features=768, out_features=768, bias=False)\n",
       "        (v_weight): Linear(in_features=768, out_features=768, bias=False)\n",
       "        (dropout): Dropout(p=0.1, inplace=False)\n",
       "      )\n",
       "      (att): MultiHeadattation(\n",
       "        (out_proj): Linear(in_features=768, out_features=768, bias=True)\n",
       "        (q_weight): Linear(in_features=768, out_features=768, bias=True)\n",
       "        (k_weight): Linear(in_features=768, out_features=768, bias=True)\n",
       "        (v_weight): Linear(in_features=768, out_features=768, bias=True)\n",
       "        (dropout): Dropout(p=0.1, inplace=False)\n",
       "      )\n",
       "      (ff): FeedForward(\n",
       "        (layers): Sequential(\n",
       "          (0): Linear(in_features=768, out_features=3072, bias=True)\n",
       "          (1): GELU()\n",
       "          (2): Linear(in_features=3072, out_features=768, bias=True)\n",
       "        )\n",
       "      )\n",
       "      (norm1): LayerNormalization()\n",
       "      (norm2): LayerNormalization()\n",
       "      (drop_shortcut): Dropout(p=0.1, inplace=False)\n",
       "    )\n",
       "    (11): Transformerblock(\n",
       "      (MultiHeadattation_instance): MultiHeadattation(\n",
       "        (out_proj): Linear(in_features=768, out_features=768, bias=True)\n",
       "        (q_weight): Linear(in_features=768, out_features=768, bias=False)\n",
       "        (k_weight): Linear(in_features=768, out_features=768, bias=False)\n",
       "        (v_weight): Linear(in_features=768, out_features=768, bias=False)\n",
       "        (dropout): Dropout(p=0.1, inplace=False)\n",
       "      )\n",
       "      (att): MultiHeadattation(\n",
       "        (out_proj): Linear(in_features=768, out_features=768, bias=True)\n",
       "        (q_weight): Linear(in_features=768, out_features=768, bias=True)\n",
       "        (k_weight): Linear(in_features=768, out_features=768, bias=True)\n",
       "        (v_weight): Linear(in_features=768, out_features=768, bias=True)\n",
       "        (dropout): Dropout(p=0.1, inplace=False)\n",
       "      )\n",
       "      (ff): FeedForward(\n",
       "        (layers): Sequential(\n",
       "          (0): Linear(in_features=768, out_features=3072, bias=True)\n",
       "          (1): GELU()\n",
       "          (2): Linear(in_features=3072, out_features=768, bias=True)\n",
       "        )\n",
       "      )\n",
       "      (norm1): LayerNormalization()\n",
       "      (norm2): LayerNormalization()\n",
       "      (drop_shortcut): Dropout(p=0.1, inplace=False)\n",
       "    )\n",
       "  )\n",
       "  (final_norm): LayerNormalization()\n",
       "  (out_head): Linear(in_features=768, out_features=50257, bias=False)\n",
       ")"
      ]
     },
     "execution_count": 65,
     "metadata": {},
     "output_type": "execute_result"
    }
   ],
   "source": [
    "load_weights_into_gpt(gpt, params)\n",
    "gpt.to(device)"
   ]
  },
  {
   "cell_type": "code",
   "execution_count": 66,
   "id": "c8c7cd62",
   "metadata": {},
   "outputs": [],
   "source": [
    "def generate(model, idx, max_new_tokens, context_size, temperature=0.0, top_k=None, eos_id=None):\n",
    "    for _ in range(max_new_tokens):\n",
    "        idx_cond = idx[:, -context_size:]\n",
    "        with torch.no_grad():\n",
    "            logits = model(idx_cond)\n",
    "        logits = logits[:, -1, :]\n",
    "\n",
    "        if top_k is not None:\n",
    "            top_logits, _ = torch.topk(logits, top_k)\n",
    "            min_val = top_logits[:, -1]\n",
    "            logits = torch.where(logits < min_val, torch.tensor(float(\"-inf\")).to(logits.device), logits)\n",
    "        if temperature > 0.0:\n",
    "            logits = logits / temperature\n",
    "            probs = torch.softmax(logits, dim=-1)\n",
    "            idx_next = torch.multinomial(probs, num_samples=1)\n",
    "        else:\n",
    "            idx_next = torch.argmax(logits, dim=-1, keepdim=True)  # (batch_size, 1)\n",
    "\n",
    "        if idx_next == eos_id:\n",
    "            break\n",
    "        idx = torch.cat((idx, idx_next), dim=1)\n",
    "\n",
    "    return idx"
   ]
  },
  {
   "cell_type": "code",
   "execution_count": 67,
   "id": "4aa4102a",
   "metadata": {},
   "outputs": [
    {
     "name": "stdout",
     "output_type": "stream",
     "text": [
      "Output text:\n",
      " Every effort moves you have have a in for a a from it was of\n",
      " to a not there at a that been a I to a the\n"
     ]
    }
   ],
   "source": [
    "torch.manual_seed(123)\n",
    "\n",
    "token_ids = generate(\n",
    "    model=gpt,\n",
    "    idx=text_to_token_ids(\"Every effort moves you\", tokenizer).to(device),\n",
    "    max_new_tokens=25,\n",
    "    context_size=NEW_CONFIG[\"context_length\"],\n",
    "    top_k=50,\n",
    "    temperature=1.4\n",
    ")\n",
    "\n",
    "print(\"Output text:\\n\", token_ids_to_text(token_ids, tokenizer))"
   ]
  },
  {
   "cell_type": "code",
   "execution_count": 68,
   "id": "30ed441e",
   "metadata": {},
   "outputs": [
    {
     "name": "stdout",
     "output_type": "stream",
     "text": [
      "sms_spam_collection\\SMSSpamCollection.tsv already exists. Skipping download and extraction.\n"
     ]
    }
   ],
   "source": [
    "import urllib.request\n",
    "import ssl\n",
    "import zipfile\n",
    "import os\n",
    "from pathlib import Path\n",
    "\n",
    "url = \"https://archive.ics.uci.edu/static/public/228/sms+spam+collection.zip\"\n",
    "zip_path = \"sms_spam_collection.zip\"\n",
    "extracted_path = \"sms_spam_collection\"\n",
    "data_file_path = Path(extracted_path) / \"SMSSpamCollection.tsv\"\n",
    "\n",
    "def download_and_unzip_spam_data(url, zip_path, extracted_path, data_file_path):\n",
    "    if data_file_path.exists():\n",
    "        print(f\"{data_file_path} already exists. Skipping download and extraction.\")\n",
    "        return\n",
    "\n",
    "    ssl_context = ssl._create_unverified_context()\n",
    "    with urllib.request.urlopen(url, context=ssl_context) as response:\n",
    "        with open(zip_path, \"wb\") as out_file:\n",
    "            out_file.write(response.read())\n",
    "\n",
    "    with zipfile.ZipFile(zip_path, \"r\") as zip_ref:\n",
    "        zip_ref.extractall(extracted_path)\n",
    "    original_file_path = Path(extracted_path) / \"SMSSpamCollection\"\n",
    "    os.rename(original_file_path, data_file_path)\n",
    "    print(f\"File downloaded and saved as {data_file_path}\")\n",
    "\n",
    "download_and_unzip_spam_data(url, zip_path, extracted_path, data_file_path)\n"
   ]
  },
  {
   "cell_type": "code",
   "execution_count": 69,
   "id": "93c40731",
   "metadata": {},
   "outputs": [
    {
     "data": {
      "text/html": [
       "<div>\n",
       "<style scoped>\n",
       "    .dataframe tbody tr th:only-of-type {\n",
       "        vertical-align: middle;\n",
       "    }\n",
       "\n",
       "    .dataframe tbody tr th {\n",
       "        vertical-align: top;\n",
       "    }\n",
       "\n",
       "    .dataframe thead th {\n",
       "        text-align: right;\n",
       "    }\n",
       "</style>\n",
       "<table border=\"1\" class=\"dataframe\">\n",
       "  <thead>\n",
       "    <tr style=\"text-align: right;\">\n",
       "      <th></th>\n",
       "      <th>Label</th>\n",
       "      <th>Text</th>\n",
       "    </tr>\n",
       "  </thead>\n",
       "  <tbody>\n",
       "    <tr>\n",
       "      <th>0</th>\n",
       "      <td>ham</td>\n",
       "      <td>Go until jurong point, crazy.. Available only ...</td>\n",
       "    </tr>\n",
       "    <tr>\n",
       "      <th>1</th>\n",
       "      <td>ham</td>\n",
       "      <td>Ok lar... Joking wif u oni...</td>\n",
       "    </tr>\n",
       "    <tr>\n",
       "      <th>2</th>\n",
       "      <td>spam</td>\n",
       "      <td>Free entry in 2 a wkly comp to win FA Cup fina...</td>\n",
       "    </tr>\n",
       "    <tr>\n",
       "      <th>3</th>\n",
       "      <td>ham</td>\n",
       "      <td>U dun say so early hor... U c already then say...</td>\n",
       "    </tr>\n",
       "    <tr>\n",
       "      <th>4</th>\n",
       "      <td>ham</td>\n",
       "      <td>Nah I don't think he goes to usf, he lives aro...</td>\n",
       "    </tr>\n",
       "    <tr>\n",
       "      <th>...</th>\n",
       "      <td>...</td>\n",
       "      <td>...</td>\n",
       "    </tr>\n",
       "    <tr>\n",
       "      <th>5567</th>\n",
       "      <td>spam</td>\n",
       "      <td>This is the 2nd time we have tried 2 contact u...</td>\n",
       "    </tr>\n",
       "    <tr>\n",
       "      <th>5568</th>\n",
       "      <td>ham</td>\n",
       "      <td>Will ü b going to esplanade fr home?</td>\n",
       "    </tr>\n",
       "    <tr>\n",
       "      <th>5569</th>\n",
       "      <td>ham</td>\n",
       "      <td>Pity, * was in mood for that. So...any other s...</td>\n",
       "    </tr>\n",
       "    <tr>\n",
       "      <th>5570</th>\n",
       "      <td>ham</td>\n",
       "      <td>The guy did some bitching but I acted like i'd...</td>\n",
       "    </tr>\n",
       "    <tr>\n",
       "      <th>5571</th>\n",
       "      <td>ham</td>\n",
       "      <td>Rofl. Its true to its name</td>\n",
       "    </tr>\n",
       "  </tbody>\n",
       "</table>\n",
       "<p>5572 rows × 2 columns</p>\n",
       "</div>"
      ],
      "text/plain": [
       "     Label                                               Text\n",
       "0      ham  Go until jurong point, crazy.. Available only ...\n",
       "1      ham                      Ok lar... Joking wif u oni...\n",
       "2     spam  Free entry in 2 a wkly comp to win FA Cup fina...\n",
       "3      ham  U dun say so early hor... U c already then say...\n",
       "4      ham  Nah I don't think he goes to usf, he lives aro...\n",
       "...    ...                                                ...\n",
       "5567  spam  This is the 2nd time we have tried 2 contact u...\n",
       "5568   ham               Will ü b going to esplanade fr home?\n",
       "5569   ham  Pity, * was in mood for that. So...any other s...\n",
       "5570   ham  The guy did some bitching but I acted like i'd...\n",
       "5571   ham                         Rofl. Its true to its name\n",
       "\n",
       "[5572 rows x 2 columns]"
      ]
     },
     "execution_count": 69,
     "metadata": {},
     "output_type": "execute_result"
    }
   ],
   "source": [
    "import pandas as pd\n",
    "\n",
    "df = pd.read_csv(data_file_path, sep=\"\\t\", header=None, names=[\"Label\", \"Text\"])\n",
    "df"
   ]
  },
  {
   "cell_type": "code",
   "execution_count": 70,
   "id": "0ddae7f5",
   "metadata": {},
   "outputs": [
    {
     "data": {
      "text/plain": [
       "Label\n",
       "ham     4825\n",
       "spam     747\n",
       "Name: count, dtype: int64"
      ]
     },
     "execution_count": 70,
     "metadata": {},
     "output_type": "execute_result"
    }
   ],
   "source": [
    "df['Label'].value_counts()"
   ]
  },
  {
   "cell_type": "code",
   "execution_count": 71,
   "id": "1637175f",
   "metadata": {},
   "outputs": [
    {
     "name": "stdout",
     "output_type": "stream",
     "text": [
      "Label\n",
      "ham     747\n",
      "spam    747\n",
      "Name: count, dtype: int64\n"
     ]
    }
   ],
   "source": [
    "def create_balanced_dataset(df):\n",
    "    num_spam = df[df[\"Label\"] == \"spam\"].shape[0]\n",
    "    ham_subset = df[df[\"Label\"] == \"ham\"].sample(num_spam, random_state=123)\n",
    "    balanced_df = pd.concat([ham_subset, df[df[\"Label\"] == \"spam\"]])\n",
    "\n",
    "    return balanced_df\n",
    "\n",
    "balanced_df = create_balanced_dataset(df)\n",
    "print(balanced_df[\"Label\"].value_counts())"
   ]
  },
  {
   "cell_type": "code",
   "execution_count": 72,
   "id": "502b96a0",
   "metadata": {},
   "outputs": [],
   "source": [
    "balanced_df[\"Label\"] = balanced_df[\"Label\"].map({\"ham\": 0, \"spam\": 1})"
   ]
  },
  {
   "cell_type": "code",
   "execution_count": 73,
   "id": "843f43a9",
   "metadata": {},
   "outputs": [],
   "source": [
    "def random_split(df, train_frac, validation_frac):\n",
    "    df = df.sample(frac=1, random_state=123).reset_index(drop=True)\n",
    "    train_end = int(len(df) * train_frac)\n",
    "    validation_end = train_end + int(len(df) * validation_frac)\n",
    "    train_df = df[:train_end]\n",
    "    validation_df = df[train_end:validation_end]\n",
    "    test_df = df[validation_end:]\n",
    "\n",
    "    return train_df, validation_df, test_df\n",
    "\n",
    "train_df, validation_df, test_df = random_split(balanced_df, 0.7, 0.1)"
   ]
  },
  {
   "cell_type": "code",
   "execution_count": 74,
   "id": "4d70dcbe",
   "metadata": {},
   "outputs": [],
   "source": [
    "train_df.to_csv(\"train.csv\", index=None)\n",
    "validation_df.to_csv(\"validation.csv\", index=None)\n",
    "test_df.to_csv(\"test.csv\", index=None)"
   ]
  },
  {
   "cell_type": "code",
   "execution_count": 75,
   "id": "3a34f7c8",
   "metadata": {},
   "outputs": [],
   "source": [
    "import torch\n",
    "from torch.utils.data import Dataset\n",
    "\n",
    "\n",
    "class SpamDataset(Dataset):\n",
    "    def __init__(self, csv_file, tokenizer, max_length=None, pad_token_id=50256):\n",
    "        self.data = pd.read_csv(csv_file)\n",
    "        self.encoded_texts = [\n",
    "            tokenizer.encode(text) for text in self.data[\"Text\"]\n",
    "        ]\n",
    "\n",
    "        if max_length is None:\n",
    "            self.max_length = self._longest_encoded_length()\n",
    "        else:\n",
    "            self.max_length = max_length\n",
    "            self.encoded_texts = [\n",
    "                encoded_text[:self.max_length]\n",
    "                for encoded_text in self.encoded_texts]\n",
    "\n",
    "        self.encoded_texts = [\n",
    "            encoded_text + [pad_token_id] * (self.max_length - len(encoded_text))\n",
    "            for encoded_text in self.encoded_texts\n",
    "        ]\n",
    "\n",
    "    def __getitem__(self, index):\n",
    "        encoded = self.encoded_texts[index]\n",
    "        label = self.data.iloc[index][\"Label\"]\n",
    "        return (\n",
    "            torch.tensor(encoded, dtype=torch.long),\n",
    "            torch.tensor(label, dtype=torch.long)\n",
    "        )\n",
    "\n",
    "    def __len__(self):\n",
    "        return len(self.data)\n",
    "\n",
    "    def _longest_encoded_length(self):\n",
    "        max_length = 0\n",
    "        for encoded_text in self.encoded_texts:\n",
    "            encoded_length = len(encoded_text)\n",
    "            if encoded_length > max_length:\n",
    "                max_length = encoded_length\n",
    "        return max_length"
   ]
  },
  {
   "cell_type": "code",
   "execution_count": 76,
   "id": "6bdf3d58",
   "metadata": {},
   "outputs": [
    {
     "name": "stdout",
     "output_type": "stream",
     "text": [
      "120\n"
     ]
    }
   ],
   "source": [
    "train_dataset = SpamDataset(\n",
    "    csv_file=\"train.csv\",\n",
    "    max_length=None,\n",
    "    tokenizer=tokenizer\n",
    ")\n",
    "\n",
    "print(train_dataset.max_length)"
   ]
  },
  {
   "cell_type": "code",
   "execution_count": 77,
   "id": "3969710e",
   "metadata": {},
   "outputs": [
    {
     "name": "stdout",
     "output_type": "stream",
     "text": [
      "120\n"
     ]
    }
   ],
   "source": [
    "val_dataset = SpamDataset(\n",
    "    csv_file=\"validation.csv\",\n",
    "    max_length=train_dataset.max_length,\n",
    "    tokenizer=tokenizer\n",
    ")\n",
    "test_dataset = SpamDataset(\n",
    "    csv_file=\"test.csv\",\n",
    "    max_length=train_dataset.max_length,\n",
    "    tokenizer=tokenizer\n",
    ")\n",
    "\n",
    "print(test_dataset.max_length)"
   ]
  },
  {
   "cell_type": "code",
   "execution_count": 78,
   "id": "98c12194",
   "metadata": {},
   "outputs": [],
   "source": [
    "from torch.utils.data import DataLoader\n",
    "\n",
    "num_workers = 0\n",
    "batch_size = 8\n",
    "\n",
    "torch.manual_seed(123)\n",
    "\n",
    "train_loader = DataLoader(\n",
    "    dataset=train_dataset,\n",
    "    batch_size=batch_size,\n",
    "    shuffle=True,\n",
    "    num_workers=num_workers,\n",
    "    drop_last=True,\n",
    ")\n",
    "\n",
    "val_loader = DataLoader(\n",
    "    dataset=val_dataset,\n",
    "    batch_size=batch_size,\n",
    "    num_workers=num_workers,\n",
    "    drop_last=False,\n",
    ")\n",
    "\n",
    "test_loader = DataLoader(\n",
    "    dataset=test_dataset,\n",
    "    batch_size=batch_size,\n",
    "    num_workers=num_workers,\n",
    "    drop_last=False,\n",
    ")"
   ]
  },
  {
   "cell_type": "code",
   "execution_count": 79,
   "id": "766a11d4",
   "metadata": {},
   "outputs": [
    {
     "name": "stdout",
     "output_type": "stream",
     "text": [
      "Train loader:\n",
      "Input batch dimensions: torch.Size([8, 120])\n",
      "Label batch dimensions torch.Size([8])\n"
     ]
    }
   ],
   "source": [
    "print(\"Train loader:\")\n",
    "for input_batch, target_batch in train_loader:\n",
    "    pass\n",
    "\n",
    "print(\"Input batch dimensions:\", input_batch.shape)\n",
    "print(\"Label batch dimensions\", target_batch.shape)"
   ]
  },
  {
   "cell_type": "code",
   "execution_count": 80,
   "id": "b99ca630",
   "metadata": {},
   "outputs": [],
   "source": [
    "CHOOSE_MODEL = \"gpt2-small (124M)\"\n",
    "INPUT_PROMPT = \"Every effort moves\"\n",
    "\n",
    "BASE_CONFIG = {\n",
    "    \"vocab_size\": 50257,     \n",
    "    \"context_length\": 1024,  \n",
    "    \"drop_rate\": 0.0,        \n",
    "    \"qkv_bias\": True         \n",
    "}\n",
    "\n",
    "model_configs = {\n",
    "    \"gpt2-small (124M)\": {\"emb_dim\": 768, \"num_layers\": 12, \"num_heads\": 12},\n",
    "    \"gpt2-medium (355M)\": {\"emb_dim\": 1024, \"num_layers\": 24, \"num_heads\": 16},\n",
    "    \"gpt2-large (774M)\": {\"emb_dim\": 1280, \"num_layers\": 36, \"num_heads\": 20},\n",
    "    \"gpt2-xl (1558M)\": {\"emb_dim\": 1600, \"num_layers\": 48, \"num_heads\": 25},\n",
    "}\n",
    "\n",
    "BASE_CONFIG.update(model_configs[CHOOSE_MODEL])\n",
    "\n",
    "assert train_dataset.max_length <= BASE_CONFIG[\"context_length\"], (\n",
    "    f\"Dataset length {train_dataset.max_length} exceeds model's context \"\n",
    "    f\"length {BASE_CONFIG['context_length']}. Reinitialize data sets with \"\n",
    "    f\"`max_length={BASE_CONFIG['context_length']}`\"\n",
    ")"
   ]
  },
  {
   "cell_type": "code",
   "execution_count": 81,
   "id": "11fcdfca",
   "metadata": {},
   "outputs": [
    {
     "name": "stderr",
     "output_type": "stream",
     "text": [
      "C:\\Users\\prate\\AppData\\Roaming\\Python\\Python311\\site-packages\\urllib3\\connectionpool.py:1097: InsecureRequestWarning: Unverified HTTPS request is being made to host 'openaipublic.blob.core.windows.net'. Adding certificate verification is strongly advised. See: https://urllib3.readthedocs.io/en/latest/advanced-usage.html#tls-warnings\n",
      "  warnings.warn(\n"
     ]
    },
    {
     "name": "stdout",
     "output_type": "stream",
     "text": [
      "File already exists and is up-to-date: gpt2\\124M\\checkpoint\n"
     ]
    },
    {
     "name": "stderr",
     "output_type": "stream",
     "text": [
      "C:\\Users\\prate\\AppData\\Roaming\\Python\\Python311\\site-packages\\urllib3\\connectionpool.py:1097: InsecureRequestWarning: Unverified HTTPS request is being made to host 'openaipublic.blob.core.windows.net'. Adding certificate verification is strongly advised. See: https://urllib3.readthedocs.io/en/latest/advanced-usage.html#tls-warnings\n",
      "  warnings.warn(\n"
     ]
    },
    {
     "name": "stdout",
     "output_type": "stream",
     "text": [
      "File already exists and is up-to-date: gpt2\\124M\\encoder.json\n"
     ]
    },
    {
     "name": "stderr",
     "output_type": "stream",
     "text": [
      "C:\\Users\\prate\\AppData\\Roaming\\Python\\Python311\\site-packages\\urllib3\\connectionpool.py:1097: InsecureRequestWarning: Unverified HTTPS request is being made to host 'openaipublic.blob.core.windows.net'. Adding certificate verification is strongly advised. See: https://urllib3.readthedocs.io/en/latest/advanced-usage.html#tls-warnings\n",
      "  warnings.warn(\n"
     ]
    },
    {
     "name": "stdout",
     "output_type": "stream",
     "text": [
      "File already exists and is up-to-date: gpt2\\124M\\hparams.json\n"
     ]
    },
    {
     "name": "stderr",
     "output_type": "stream",
     "text": [
      "C:\\Users\\prate\\AppData\\Roaming\\Python\\Python311\\site-packages\\urllib3\\connectionpool.py:1097: InsecureRequestWarning: Unverified HTTPS request is being made to host 'openaipublic.blob.core.windows.net'. Adding certificate verification is strongly advised. See: https://urllib3.readthedocs.io/en/latest/advanced-usage.html#tls-warnings\n",
      "  warnings.warn(\n"
     ]
    },
    {
     "name": "stdout",
     "output_type": "stream",
     "text": [
      "File already exists and is up-to-date: gpt2\\124M\\model.ckpt.data-00000-of-00001\n"
     ]
    },
    {
     "name": "stderr",
     "output_type": "stream",
     "text": [
      "C:\\Users\\prate\\AppData\\Roaming\\Python\\Python311\\site-packages\\urllib3\\connectionpool.py:1097: InsecureRequestWarning: Unverified HTTPS request is being made to host 'openaipublic.blob.core.windows.net'. Adding certificate verification is strongly advised. See: https://urllib3.readthedocs.io/en/latest/advanced-usage.html#tls-warnings\n",
      "  warnings.warn(\n"
     ]
    },
    {
     "name": "stdout",
     "output_type": "stream",
     "text": [
      "File already exists and is up-to-date: gpt2\\124M\\model.ckpt.index\n"
     ]
    },
    {
     "name": "stderr",
     "output_type": "stream",
     "text": [
      "C:\\Users\\prate\\AppData\\Roaming\\Python\\Python311\\site-packages\\urllib3\\connectionpool.py:1097: InsecureRequestWarning: Unverified HTTPS request is being made to host 'openaipublic.blob.core.windows.net'. Adding certificate verification is strongly advised. See: https://urllib3.readthedocs.io/en/latest/advanced-usage.html#tls-warnings\n",
      "  warnings.warn(\n"
     ]
    },
    {
     "name": "stdout",
     "output_type": "stream",
     "text": [
      "File already exists and is up-to-date: gpt2\\124M\\model.ckpt.meta\n"
     ]
    },
    {
     "name": "stderr",
     "output_type": "stream",
     "text": [
      "C:\\Users\\prate\\AppData\\Roaming\\Python\\Python311\\site-packages\\urllib3\\connectionpool.py:1097: InsecureRequestWarning: Unverified HTTPS request is being made to host 'openaipublic.blob.core.windows.net'. Adding certificate verification is strongly advised. See: https://urllib3.readthedocs.io/en/latest/advanced-usage.html#tls-warnings\n",
      "  warnings.warn(\n"
     ]
    },
    {
     "name": "stdout",
     "output_type": "stream",
     "text": [
      "File already exists and is up-to-date: gpt2\\124M\\vocab.bpe\n"
     ]
    },
    {
     "data": {
      "text/plain": [
       "GPT2(\n",
       "  (tok_emb): Embedding(50257, 768)\n",
       "  (pos_emb): Embedding(1024, 768)\n",
       "  (drop_emb): Dropout(p=0.0, inplace=False)\n",
       "  (trf_blocks): Sequential(\n",
       "    (0): Transformerblock(\n",
       "      (MultiHeadattation_instance): MultiHeadattation(\n",
       "        (out_proj): Linear(in_features=768, out_features=768, bias=True)\n",
       "        (q_weight): Linear(in_features=768, out_features=768, bias=False)\n",
       "        (k_weight): Linear(in_features=768, out_features=768, bias=False)\n",
       "        (v_weight): Linear(in_features=768, out_features=768, bias=False)\n",
       "        (dropout): Dropout(p=0.0, inplace=False)\n",
       "      )\n",
       "      (att): MultiHeadattation(\n",
       "        (out_proj): Linear(in_features=768, out_features=768, bias=True)\n",
       "        (q_weight): Linear(in_features=768, out_features=768, bias=True)\n",
       "        (k_weight): Linear(in_features=768, out_features=768, bias=True)\n",
       "        (v_weight): Linear(in_features=768, out_features=768, bias=True)\n",
       "        (dropout): Dropout(p=0.0, inplace=False)\n",
       "      )\n",
       "      (ff): FeedForward(\n",
       "        (layers): Sequential(\n",
       "          (0): Linear(in_features=768, out_features=3072, bias=True)\n",
       "          (1): GELU()\n",
       "          (2): Linear(in_features=3072, out_features=768, bias=True)\n",
       "        )\n",
       "      )\n",
       "      (norm1): LayerNormalization()\n",
       "      (norm2): LayerNormalization()\n",
       "      (drop_shortcut): Dropout(p=0.0, inplace=False)\n",
       "    )\n",
       "    (1): Transformerblock(\n",
       "      (MultiHeadattation_instance): MultiHeadattation(\n",
       "        (out_proj): Linear(in_features=768, out_features=768, bias=True)\n",
       "        (q_weight): Linear(in_features=768, out_features=768, bias=False)\n",
       "        (k_weight): Linear(in_features=768, out_features=768, bias=False)\n",
       "        (v_weight): Linear(in_features=768, out_features=768, bias=False)\n",
       "        (dropout): Dropout(p=0.0, inplace=False)\n",
       "      )\n",
       "      (att): MultiHeadattation(\n",
       "        (out_proj): Linear(in_features=768, out_features=768, bias=True)\n",
       "        (q_weight): Linear(in_features=768, out_features=768, bias=True)\n",
       "        (k_weight): Linear(in_features=768, out_features=768, bias=True)\n",
       "        (v_weight): Linear(in_features=768, out_features=768, bias=True)\n",
       "        (dropout): Dropout(p=0.0, inplace=False)\n",
       "      )\n",
       "      (ff): FeedForward(\n",
       "        (layers): Sequential(\n",
       "          (0): Linear(in_features=768, out_features=3072, bias=True)\n",
       "          (1): GELU()\n",
       "          (2): Linear(in_features=3072, out_features=768, bias=True)\n",
       "        )\n",
       "      )\n",
       "      (norm1): LayerNormalization()\n",
       "      (norm2): LayerNormalization()\n",
       "      (drop_shortcut): Dropout(p=0.0, inplace=False)\n",
       "    )\n",
       "    (2): Transformerblock(\n",
       "      (MultiHeadattation_instance): MultiHeadattation(\n",
       "        (out_proj): Linear(in_features=768, out_features=768, bias=True)\n",
       "        (q_weight): Linear(in_features=768, out_features=768, bias=False)\n",
       "        (k_weight): Linear(in_features=768, out_features=768, bias=False)\n",
       "        (v_weight): Linear(in_features=768, out_features=768, bias=False)\n",
       "        (dropout): Dropout(p=0.0, inplace=False)\n",
       "      )\n",
       "      (att): MultiHeadattation(\n",
       "        (out_proj): Linear(in_features=768, out_features=768, bias=True)\n",
       "        (q_weight): Linear(in_features=768, out_features=768, bias=True)\n",
       "        (k_weight): Linear(in_features=768, out_features=768, bias=True)\n",
       "        (v_weight): Linear(in_features=768, out_features=768, bias=True)\n",
       "        (dropout): Dropout(p=0.0, inplace=False)\n",
       "      )\n",
       "      (ff): FeedForward(\n",
       "        (layers): Sequential(\n",
       "          (0): Linear(in_features=768, out_features=3072, bias=True)\n",
       "          (1): GELU()\n",
       "          (2): Linear(in_features=3072, out_features=768, bias=True)\n",
       "        )\n",
       "      )\n",
       "      (norm1): LayerNormalization()\n",
       "      (norm2): LayerNormalization()\n",
       "      (drop_shortcut): Dropout(p=0.0, inplace=False)\n",
       "    )\n",
       "    (3): Transformerblock(\n",
       "      (MultiHeadattation_instance): MultiHeadattation(\n",
       "        (out_proj): Linear(in_features=768, out_features=768, bias=True)\n",
       "        (q_weight): Linear(in_features=768, out_features=768, bias=False)\n",
       "        (k_weight): Linear(in_features=768, out_features=768, bias=False)\n",
       "        (v_weight): Linear(in_features=768, out_features=768, bias=False)\n",
       "        (dropout): Dropout(p=0.0, inplace=False)\n",
       "      )\n",
       "      (att): MultiHeadattation(\n",
       "        (out_proj): Linear(in_features=768, out_features=768, bias=True)\n",
       "        (q_weight): Linear(in_features=768, out_features=768, bias=True)\n",
       "        (k_weight): Linear(in_features=768, out_features=768, bias=True)\n",
       "        (v_weight): Linear(in_features=768, out_features=768, bias=True)\n",
       "        (dropout): Dropout(p=0.0, inplace=False)\n",
       "      )\n",
       "      (ff): FeedForward(\n",
       "        (layers): Sequential(\n",
       "          (0): Linear(in_features=768, out_features=3072, bias=True)\n",
       "          (1): GELU()\n",
       "          (2): Linear(in_features=3072, out_features=768, bias=True)\n",
       "        )\n",
       "      )\n",
       "      (norm1): LayerNormalization()\n",
       "      (norm2): LayerNormalization()\n",
       "      (drop_shortcut): Dropout(p=0.0, inplace=False)\n",
       "    )\n",
       "    (4): Transformerblock(\n",
       "      (MultiHeadattation_instance): MultiHeadattation(\n",
       "        (out_proj): Linear(in_features=768, out_features=768, bias=True)\n",
       "        (q_weight): Linear(in_features=768, out_features=768, bias=False)\n",
       "        (k_weight): Linear(in_features=768, out_features=768, bias=False)\n",
       "        (v_weight): Linear(in_features=768, out_features=768, bias=False)\n",
       "        (dropout): Dropout(p=0.0, inplace=False)\n",
       "      )\n",
       "      (att): MultiHeadattation(\n",
       "        (out_proj): Linear(in_features=768, out_features=768, bias=True)\n",
       "        (q_weight): Linear(in_features=768, out_features=768, bias=True)\n",
       "        (k_weight): Linear(in_features=768, out_features=768, bias=True)\n",
       "        (v_weight): Linear(in_features=768, out_features=768, bias=True)\n",
       "        (dropout): Dropout(p=0.0, inplace=False)\n",
       "      )\n",
       "      (ff): FeedForward(\n",
       "        (layers): Sequential(\n",
       "          (0): Linear(in_features=768, out_features=3072, bias=True)\n",
       "          (1): GELU()\n",
       "          (2): Linear(in_features=3072, out_features=768, bias=True)\n",
       "        )\n",
       "      )\n",
       "      (norm1): LayerNormalization()\n",
       "      (norm2): LayerNormalization()\n",
       "      (drop_shortcut): Dropout(p=0.0, inplace=False)\n",
       "    )\n",
       "    (5): Transformerblock(\n",
       "      (MultiHeadattation_instance): MultiHeadattation(\n",
       "        (out_proj): Linear(in_features=768, out_features=768, bias=True)\n",
       "        (q_weight): Linear(in_features=768, out_features=768, bias=False)\n",
       "        (k_weight): Linear(in_features=768, out_features=768, bias=False)\n",
       "        (v_weight): Linear(in_features=768, out_features=768, bias=False)\n",
       "        (dropout): Dropout(p=0.0, inplace=False)\n",
       "      )\n",
       "      (att): MultiHeadattation(\n",
       "        (out_proj): Linear(in_features=768, out_features=768, bias=True)\n",
       "        (q_weight): Linear(in_features=768, out_features=768, bias=True)\n",
       "        (k_weight): Linear(in_features=768, out_features=768, bias=True)\n",
       "        (v_weight): Linear(in_features=768, out_features=768, bias=True)\n",
       "        (dropout): Dropout(p=0.0, inplace=False)\n",
       "      )\n",
       "      (ff): FeedForward(\n",
       "        (layers): Sequential(\n",
       "          (0): Linear(in_features=768, out_features=3072, bias=True)\n",
       "          (1): GELU()\n",
       "          (2): Linear(in_features=3072, out_features=768, bias=True)\n",
       "        )\n",
       "      )\n",
       "      (norm1): LayerNormalization()\n",
       "      (norm2): LayerNormalization()\n",
       "      (drop_shortcut): Dropout(p=0.0, inplace=False)\n",
       "    )\n",
       "    (6): Transformerblock(\n",
       "      (MultiHeadattation_instance): MultiHeadattation(\n",
       "        (out_proj): Linear(in_features=768, out_features=768, bias=True)\n",
       "        (q_weight): Linear(in_features=768, out_features=768, bias=False)\n",
       "        (k_weight): Linear(in_features=768, out_features=768, bias=False)\n",
       "        (v_weight): Linear(in_features=768, out_features=768, bias=False)\n",
       "        (dropout): Dropout(p=0.0, inplace=False)\n",
       "      )\n",
       "      (att): MultiHeadattation(\n",
       "        (out_proj): Linear(in_features=768, out_features=768, bias=True)\n",
       "        (q_weight): Linear(in_features=768, out_features=768, bias=True)\n",
       "        (k_weight): Linear(in_features=768, out_features=768, bias=True)\n",
       "        (v_weight): Linear(in_features=768, out_features=768, bias=True)\n",
       "        (dropout): Dropout(p=0.0, inplace=False)\n",
       "      )\n",
       "      (ff): FeedForward(\n",
       "        (layers): Sequential(\n",
       "          (0): Linear(in_features=768, out_features=3072, bias=True)\n",
       "          (1): GELU()\n",
       "          (2): Linear(in_features=3072, out_features=768, bias=True)\n",
       "        )\n",
       "      )\n",
       "      (norm1): LayerNormalization()\n",
       "      (norm2): LayerNormalization()\n",
       "      (drop_shortcut): Dropout(p=0.0, inplace=False)\n",
       "    )\n",
       "    (7): Transformerblock(\n",
       "      (MultiHeadattation_instance): MultiHeadattation(\n",
       "        (out_proj): Linear(in_features=768, out_features=768, bias=True)\n",
       "        (q_weight): Linear(in_features=768, out_features=768, bias=False)\n",
       "        (k_weight): Linear(in_features=768, out_features=768, bias=False)\n",
       "        (v_weight): Linear(in_features=768, out_features=768, bias=False)\n",
       "        (dropout): Dropout(p=0.0, inplace=False)\n",
       "      )\n",
       "      (att): MultiHeadattation(\n",
       "        (out_proj): Linear(in_features=768, out_features=768, bias=True)\n",
       "        (q_weight): Linear(in_features=768, out_features=768, bias=True)\n",
       "        (k_weight): Linear(in_features=768, out_features=768, bias=True)\n",
       "        (v_weight): Linear(in_features=768, out_features=768, bias=True)\n",
       "        (dropout): Dropout(p=0.0, inplace=False)\n",
       "      )\n",
       "      (ff): FeedForward(\n",
       "        (layers): Sequential(\n",
       "          (0): Linear(in_features=768, out_features=3072, bias=True)\n",
       "          (1): GELU()\n",
       "          (2): Linear(in_features=3072, out_features=768, bias=True)\n",
       "        )\n",
       "      )\n",
       "      (norm1): LayerNormalization()\n",
       "      (norm2): LayerNormalization()\n",
       "      (drop_shortcut): Dropout(p=0.0, inplace=False)\n",
       "    )\n",
       "    (8): Transformerblock(\n",
       "      (MultiHeadattation_instance): MultiHeadattation(\n",
       "        (out_proj): Linear(in_features=768, out_features=768, bias=True)\n",
       "        (q_weight): Linear(in_features=768, out_features=768, bias=False)\n",
       "        (k_weight): Linear(in_features=768, out_features=768, bias=False)\n",
       "        (v_weight): Linear(in_features=768, out_features=768, bias=False)\n",
       "        (dropout): Dropout(p=0.0, inplace=False)\n",
       "      )\n",
       "      (att): MultiHeadattation(\n",
       "        (out_proj): Linear(in_features=768, out_features=768, bias=True)\n",
       "        (q_weight): Linear(in_features=768, out_features=768, bias=True)\n",
       "        (k_weight): Linear(in_features=768, out_features=768, bias=True)\n",
       "        (v_weight): Linear(in_features=768, out_features=768, bias=True)\n",
       "        (dropout): Dropout(p=0.0, inplace=False)\n",
       "      )\n",
       "      (ff): FeedForward(\n",
       "        (layers): Sequential(\n",
       "          (0): Linear(in_features=768, out_features=3072, bias=True)\n",
       "          (1): GELU()\n",
       "          (2): Linear(in_features=3072, out_features=768, bias=True)\n",
       "        )\n",
       "      )\n",
       "      (norm1): LayerNormalization()\n",
       "      (norm2): LayerNormalization()\n",
       "      (drop_shortcut): Dropout(p=0.0, inplace=False)\n",
       "    )\n",
       "    (9): Transformerblock(\n",
       "      (MultiHeadattation_instance): MultiHeadattation(\n",
       "        (out_proj): Linear(in_features=768, out_features=768, bias=True)\n",
       "        (q_weight): Linear(in_features=768, out_features=768, bias=False)\n",
       "        (k_weight): Linear(in_features=768, out_features=768, bias=False)\n",
       "        (v_weight): Linear(in_features=768, out_features=768, bias=False)\n",
       "        (dropout): Dropout(p=0.0, inplace=False)\n",
       "      )\n",
       "      (att): MultiHeadattation(\n",
       "        (out_proj): Linear(in_features=768, out_features=768, bias=True)\n",
       "        (q_weight): Linear(in_features=768, out_features=768, bias=True)\n",
       "        (k_weight): Linear(in_features=768, out_features=768, bias=True)\n",
       "        (v_weight): Linear(in_features=768, out_features=768, bias=True)\n",
       "        (dropout): Dropout(p=0.0, inplace=False)\n",
       "      )\n",
       "      (ff): FeedForward(\n",
       "        (layers): Sequential(\n",
       "          (0): Linear(in_features=768, out_features=3072, bias=True)\n",
       "          (1): GELU()\n",
       "          (2): Linear(in_features=3072, out_features=768, bias=True)\n",
       "        )\n",
       "      )\n",
       "      (norm1): LayerNormalization()\n",
       "      (norm2): LayerNormalization()\n",
       "      (drop_shortcut): Dropout(p=0.0, inplace=False)\n",
       "    )\n",
       "    (10): Transformerblock(\n",
       "      (MultiHeadattation_instance): MultiHeadattation(\n",
       "        (out_proj): Linear(in_features=768, out_features=768, bias=True)\n",
       "        (q_weight): Linear(in_features=768, out_features=768, bias=False)\n",
       "        (k_weight): Linear(in_features=768, out_features=768, bias=False)\n",
       "        (v_weight): Linear(in_features=768, out_features=768, bias=False)\n",
       "        (dropout): Dropout(p=0.0, inplace=False)\n",
       "      )\n",
       "      (att): MultiHeadattation(\n",
       "        (out_proj): Linear(in_features=768, out_features=768, bias=True)\n",
       "        (q_weight): Linear(in_features=768, out_features=768, bias=True)\n",
       "        (k_weight): Linear(in_features=768, out_features=768, bias=True)\n",
       "        (v_weight): Linear(in_features=768, out_features=768, bias=True)\n",
       "        (dropout): Dropout(p=0.0, inplace=False)\n",
       "      )\n",
       "      (ff): FeedForward(\n",
       "        (layers): Sequential(\n",
       "          (0): Linear(in_features=768, out_features=3072, bias=True)\n",
       "          (1): GELU()\n",
       "          (2): Linear(in_features=3072, out_features=768, bias=True)\n",
       "        )\n",
       "      )\n",
       "      (norm1): LayerNormalization()\n",
       "      (norm2): LayerNormalization()\n",
       "      (drop_shortcut): Dropout(p=0.0, inplace=False)\n",
       "    )\n",
       "    (11): Transformerblock(\n",
       "      (MultiHeadattation_instance): MultiHeadattation(\n",
       "        (out_proj): Linear(in_features=768, out_features=768, bias=True)\n",
       "        (q_weight): Linear(in_features=768, out_features=768, bias=False)\n",
       "        (k_weight): Linear(in_features=768, out_features=768, bias=False)\n",
       "        (v_weight): Linear(in_features=768, out_features=768, bias=False)\n",
       "        (dropout): Dropout(p=0.0, inplace=False)\n",
       "      )\n",
       "      (att): MultiHeadattation(\n",
       "        (out_proj): Linear(in_features=768, out_features=768, bias=True)\n",
       "        (q_weight): Linear(in_features=768, out_features=768, bias=True)\n",
       "        (k_weight): Linear(in_features=768, out_features=768, bias=True)\n",
       "        (v_weight): Linear(in_features=768, out_features=768, bias=True)\n",
       "        (dropout): Dropout(p=0.0, inplace=False)\n",
       "      )\n",
       "      (ff): FeedForward(\n",
       "        (layers): Sequential(\n",
       "          (0): Linear(in_features=768, out_features=3072, bias=True)\n",
       "          (1): GELU()\n",
       "          (2): Linear(in_features=3072, out_features=768, bias=True)\n",
       "        )\n",
       "      )\n",
       "      (norm1): LayerNormalization()\n",
       "      (norm2): LayerNormalization()\n",
       "      (drop_shortcut): Dropout(p=0.0, inplace=False)\n",
       "    )\n",
       "  )\n",
       "  (final_norm): LayerNormalization()\n",
       "  (out_head): Linear(in_features=768, out_features=50257, bias=False)\n",
       ")"
      ]
     },
     "execution_count": 81,
     "metadata": {},
     "output_type": "execute_result"
    }
   ],
   "source": [
    "model_size = CHOOSE_MODEL.split(\" \")[-1].lstrip(\"(\").rstrip(\")\")\n",
    "\n",
    "from gpt_download3 import download_and_load_gpt2\n",
    "\n",
    "settings, params = download_and_load_gpt2(model_size=model_size, models_dir=\"gpt2\")\n",
    "\n",
    "model = GPT2(BASE_CONFIG)\n",
    "load_weights_into_gpt(model, params)\n",
    "model.eval()"
   ]
  },
  {
   "cell_type": "code",
   "execution_count": 85,
   "id": "d75d803f",
   "metadata": {},
   "outputs": [
    {
     "name": "stdout",
     "output_type": "stream",
     "text": [
      "Every effort moves you move move move move move move move move move move move move move move move\n"
     ]
    }
   ],
   "source": [
    "text_1 = \"Every effort moves you\"\n",
    "\n",
    "token_ids = generate_new_text(\n",
    "    model=model,\n",
    "    idx=text_to_token_ids(text_1, tokenizer),\n",
    "    max_iteration=15,\n",
    "    context_size=BASE_CONFIG[\"context_length\"]\n",
    ")\n",
    "\n",
    "print(token_ids_to_text(token_ids, tokenizer))"
   ]
  },
  {
   "cell_type": "code",
   "execution_count": 86,
   "id": "cbfbb879",
   "metadata": {},
   "outputs": [],
   "source": [
    "for param in model.parameters():\n",
    "    param.requires_grad = False"
   ]
  },
  {
   "cell_type": "code",
   "execution_count": 87,
   "id": "ba3433ff",
   "metadata": {},
   "outputs": [],
   "source": [
    "torch.manual_seed(123)\n",
    "\n",
    "num_classes = 2\n",
    "model.out_head = torch.nn.Linear(in_features=BASE_CONFIG[\"emb_dim\"], out_features=num_classes)"
   ]
  },
  {
   "cell_type": "code",
   "execution_count": 88,
   "id": "5e1bd5c4",
   "metadata": {},
   "outputs": [],
   "source": [
    "for param in model.trf_blocks[-1].parameters():\n",
    "    param.requires_grad = True\n",
    "\n",
    "for param in model.final_norm.parameters():\n",
    "    param.requires_grad = True"
   ]
  },
  {
   "cell_type": "code",
   "execution_count": 89,
   "id": "810c320b",
   "metadata": {},
   "outputs": [
    {
     "name": "stdout",
     "output_type": "stream",
     "text": [
      "Inputs: tensor([[5211,  345,  423,  640]])\n",
      "Inputs dimensions: torch.Size([1, 4])\n"
     ]
    }
   ],
   "source": [
    "inputs = tokenizer.encode(\"Do you have time\")\n",
    "inputs = torch.tensor(inputs).unsqueeze(0)\n",
    "print(\"Inputs:\", inputs)\n",
    "print(\"Inputs dimensions:\", inputs.shape)"
   ]
  },
  {
   "cell_type": "code",
   "execution_count": 90,
   "id": "67bf1fa9",
   "metadata": {},
   "outputs": [
    {
     "name": "stdout",
     "output_type": "stream",
     "text": [
      "Outputs:\n",
      " tensor([[[-1.5854,  0.9904],\n",
      "         [-3.6642,  6.5760],\n",
      "         [-3.1463,  6.6853],\n",
      "         [-3.4574,  5.7782]]])\n",
      "Outputs dimensions: torch.Size([1, 4, 2])\n"
     ]
    }
   ],
   "source": [
    "with torch.no_grad():\n",
    "    outputs = model(inputs)\n",
    "\n",
    "print(\"Outputs:\\n\", outputs)\n",
    "print(\"Outputs dimensions:\", outputs.shape)"
   ]
  },
  {
   "cell_type": "code",
   "execution_count": 91,
   "id": "a378b975",
   "metadata": {},
   "outputs": [],
   "source": [
    "def calc_accuracy_loader(data_loader, model, device, num_batches=None):\n",
    "    model.eval()\n",
    "    correct_predictions, num_examples = 0, 0\n",
    "\n",
    "    if num_batches is None:\n",
    "        num_batches = len(data_loader)\n",
    "    else:\n",
    "        num_batches = min(num_batches, len(data_loader))\n",
    "    for i, (input_batch, target_batch) in enumerate(data_loader):\n",
    "        if i < num_batches:\n",
    "            input_batch, target_batch = input_batch.to(device), target_batch.to(device)\n",
    "\n",
    "            with torch.no_grad():\n",
    "                logits = model(input_batch)[:, -1, :]  # Logits of last output token\n",
    "            predicted_labels = torch.argmax(logits, dim=-1)\n",
    "\n",
    "            num_examples += predicted_labels.shape[0]\n",
    "            correct_predictions += (predicted_labels == target_batch).sum().item()\n",
    "        else:\n",
    "            break\n",
    "    return correct_predictions / num_examples"
   ]
  },
  {
   "cell_type": "code",
   "execution_count": 92,
   "id": "8bcf22ab",
   "metadata": {},
   "outputs": [
    {
     "name": "stdout",
     "output_type": "stream",
     "text": [
      "Training accuracy: 46.25%\n",
      "Validation accuracy: 45.00%\n",
      "Test accuracy: 48.75%\n"
     ]
    }
   ],
   "source": [
    "device = torch.device(\"cuda\" if torch.cuda.is_available() else \"cpu\")\n",
    "\n",
    "model.to(device)\n",
    "\n",
    "torch.manual_seed(123) \n",
    "\n",
    "train_accuracy = calc_accuracy_loader(train_loader, model, device, num_batches=10)\n",
    "val_accuracy = calc_accuracy_loader(val_loader, model, device, num_batches=10)\n",
    "test_accuracy = calc_accuracy_loader(test_loader, model, device, num_batches=10)\n",
    "\n",
    "print(f\"Training accuracy: {train_accuracy*100:.2f}%\")\n",
    "print(f\"Validation accuracy: {val_accuracy*100:.2f}%\")\n",
    "print(f\"Test accuracy: {test_accuracy*100:.2f}%\")"
   ]
  },
  {
   "cell_type": "code",
   "execution_count": 93,
   "id": "4e8a4ced",
   "metadata": {},
   "outputs": [],
   "source": [
    "def calc_loss_batch(input_batch, target_batch, model, device):\n",
    "    input_batch, target_batch = input_batch.to(device), target_batch.to(device)\n",
    "    logits = model(input_batch)[:, -1, :] \n",
    "    loss = torch.nn.functional.cross_entropy(logits, target_batch)\n",
    "    return loss"
   ]
  },
  {
   "cell_type": "code",
   "execution_count": 94,
   "id": "39438e1f",
   "metadata": {},
   "outputs": [],
   "source": [
    "def calc_loss_loader(data_loader, model, device, num_batches=None):\n",
    "    total_loss = 0.\n",
    "    if len(data_loader) == 0:\n",
    "        return float(\"nan\")\n",
    "    elif num_batches is None:\n",
    "        num_batches = len(data_loader)\n",
    "    else:\n",
    "        num_batches = min(num_batches, len(data_loader))\n",
    "    for i, (input_batch, target_batch) in enumerate(data_loader):\n",
    "        if i < num_batches:\n",
    "            loss = calc_loss_batch(input_batch, target_batch, model, device)\n",
    "            total_loss += loss.item()\n",
    "        else:\n",
    "            break\n",
    "    return total_loss / num_batches"
   ]
  },
  {
   "cell_type": "code",
   "execution_count": 95,
   "id": "0021e0e1",
   "metadata": {},
   "outputs": [
    {
     "name": "stdout",
     "output_type": "stream",
     "text": [
      "Training loss: 2.044\n",
      "Validation loss: 2.252\n",
      "Test loss: 2.196\n"
     ]
    }
   ],
   "source": [
    "with torch.no_grad():\n",
    "    train_loss = calc_loss_loader(train_loader, model, device, num_batches=5)\n",
    "    val_loss = calc_loss_loader(val_loader, model, device, num_batches=5)\n",
    "    test_loss = calc_loss_loader(test_loader, model, device, num_batches=5)\n",
    "\n",
    "print(f\"Training loss: {train_loss:.3f}\")\n",
    "print(f\"Validation loss: {val_loss:.3f}\")\n",
    "print(f\"Test loss: {test_loss:.3f}\")"
   ]
  },
  {
   "cell_type": "code",
   "execution_count": 96,
   "id": "250cc9d1",
   "metadata": {},
   "outputs": [],
   "source": [
    "def train_classifier_simple(model, train_loader, val_loader, optimizer, device, num_epochs,\n",
    "                            eval_freq, eval_iter):\n",
    "    train_losses, val_losses, train_accs, val_accs = [], [], [], []\n",
    "    examples_seen, global_step = 0, -1\n",
    "\n",
    "    for epoch in range(num_epochs):\n",
    "        model.train()  \n",
    "\n",
    "        for input_batch, target_batch in train_loader:\n",
    "            optimizer.zero_grad() \n",
    "            loss = calc_loss_batch(input_batch, target_batch, model, device)\n",
    "            loss.backward() \n",
    "            optimizer.step() \n",
    "            examples_seen += input_batch.shape[0] \n",
    "            global_step += 1\n",
    "\n",
    "            if global_step % eval_freq == 0:\n",
    "                train_loss, val_loss = evaluate_model(\n",
    "                    model, train_loader, val_loader, device, eval_iter)\n",
    "                train_losses.append(train_loss)\n",
    "                val_losses.append(val_loss)\n",
    "                print(f\"Ep {epoch+1} (Step {global_step:06d}): \"\n",
    "                    f\"Train loss {train_loss:.3f}, Val loss {val_loss:.3f}\")\n",
    "\n",
    "        train_accuracy = calc_accuracy_loader(train_loader, model, device, num_batches=eval_iter)\n",
    "        val_accuracy = calc_accuracy_loader(val_loader, model, device, num_batches=eval_iter)\n",
    "        print(f\"Training accuracy: {train_accuracy*100:.2f}% | \", end=\"\")\n",
    "        print(f\"Validation accuracy: {val_accuracy*100:.2f}%\")\n",
    "        train_accs.append(train_accuracy)\n",
    "        val_accs.append(val_accuracy)\n",
    "\n",
    "    return train_losses, val_losses, train_accs, val_accs, examples_seen"
   ]
  },
  {
   "cell_type": "code",
   "execution_count": 97,
   "id": "c92d2f41",
   "metadata": {},
   "outputs": [],
   "source": [
    "def evaluate_model(model, train_loader, val_loader, device, eval_iter):\n",
    "    model.eval()\n",
    "    with torch.no_grad():\n",
    "        train_loss = calc_loss_loader(train_loader, model, device, num_batches=eval_iter)\n",
    "        val_loss = calc_loss_loader(val_loader, model, device, num_batches=eval_iter)\n",
    "    model.train()\n",
    "    return train_loss, val_loss"
   ]
  },
  {
   "cell_type": "code",
   "execution_count": 98,
   "id": "06b275ed",
   "metadata": {},
   "outputs": [
    {
     "name": "stdout",
     "output_type": "stream",
     "text": [
      "Ep 1 (Step 000000): Train loss 2.081, Val loss 2.047\n",
      "Ep 1 (Step 000050): Train loss 0.338, Val loss 0.438\n",
      "Ep 1 (Step 000100): Train loss 0.253, Val loss 0.413\n",
      "Training accuracy: 87.50% | Validation accuracy: 85.00%\n",
      "Ep 2 (Step 000150): Train loss 0.494, Val loss 0.358\n",
      "Ep 2 (Step 000200): Train loss 0.328, Val loss 0.329\n",
      "Ep 2 (Step 000250): Train loss 0.312, Val loss 0.289\n",
      "Training accuracy: 87.50% | Validation accuracy: 85.00%\n",
      "Ep 3 (Step 000300): Train loss 0.247, Val loss 0.220\n",
      "Ep 3 (Step 000350): Train loss 0.165, Val loss 0.110\n",
      "Training accuracy: 97.50% | Validation accuracy: 90.00%\n",
      "Ep 4 (Step 000400): Train loss 0.044, Val loss 0.102\n",
      "Ep 4 (Step 000450): Train loss 0.061, Val loss 0.095\n",
      "Ep 4 (Step 000500): Train loss 0.139, Val loss 0.112\n",
      "Training accuracy: 95.00% | Validation accuracy: 90.00%\n",
      "Ep 5 (Step 000550): Train loss 0.177, Val loss 0.133\n",
      "Ep 5 (Step 000600): Train loss 0.112, Val loss 0.060\n",
      "Training accuracy: 100.00% | Validation accuracy: 97.50%\n",
      "Training completed in 25.40 minutes.\n"
     ]
    }
   ],
   "source": [
    "import time\n",
    "\n",
    "start_time = time.time()\n",
    "\n",
    "torch.manual_seed(123)\n",
    "\n",
    "optimizer = torch.optim.AdamW(model.parameters(), lr=5e-5, weight_decay=0.1)\n",
    "\n",
    "num_epochs = 5\n",
    "train_losses, val_losses, train_accs, val_accs, examples_seen = train_classifier_simple(\n",
    "    model, train_loader, val_loader, optimizer, device,\n",
    "    num_epochs=num_epochs, eval_freq=50, eval_iter=5,\n",
    ")\n",
    "\n",
    "end_time = time.time()\n",
    "execution_time_minutes = (end_time - start_time) / 60\n",
    "print(f\"Training completed in {execution_time_minutes:.2f} minutes.\")"
   ]
  },
  {
   "cell_type": "code",
   "execution_count": 100,
   "id": "64d9247a",
   "metadata": {},
   "outputs": [],
   "source": [
    "def classify_review(text, model, tokenizer, device, max_length=None, pad_token_id=50256):\n",
    "    model.eval()\n",
    "    input_ids = tokenizer.encode(text)\n",
    "    supported_context_length = model.pos_emb.weight.shape[0]\n",
    "    input_ids = input_ids[:min(max_length, supported_context_length)]\n",
    "\n",
    "    input_ids += [pad_token_id] * (max_length - len(input_ids))\n",
    "    input_tensor = torch.tensor(input_ids, device=device).unsqueeze(0) # add batch dimension\n",
    "\n",
    "    with torch.no_grad():\n",
    "        logits = model(input_tensor)[:, -1, :]  # Logits of the last output token\n",
    "    predicted_label = torch.argmax(logits, dim=-1).item()\n",
    "\n",
    "    return \"spam\" if predicted_label == 1 else \"not spam\""
   ]
  },
  {
   "cell_type": "code",
   "execution_count": 101,
   "id": "0face18b",
   "metadata": {},
   "outputs": [
    {
     "name": "stdout",
     "output_type": "stream",
     "text": [
      "spam\n"
     ]
    }
   ],
   "source": [
    "text_1 = (\n",
    "    \"You are a winner you have been specially\"\n",
    "    \" selected to receive $1000 cash or a $2000 award.\"\n",
    ")\n",
    "\n",
    "print(classify_review(\n",
    "    text_1, model, tokenizer, device, max_length=train_dataset.max_length\n",
    "))"
   ]
  },
  {
   "cell_type": "code",
   "execution_count": 102,
   "id": "69b85e2c",
   "metadata": {},
   "outputs": [],
   "source": [
    "torch.save(model.state_dict(), \"review_classifier.pth\")"
   ]
  },
  {
   "cell_type": "code",
   "execution_count": 103,
   "id": "2a9eddc2",
   "metadata": {},
   "outputs": [
    {
     "data": {
      "text/plain": [
       "<All keys matched successfully>"
      ]
     },
     "execution_count": 103,
     "metadata": {},
     "output_type": "execute_result"
    }
   ],
   "source": [
    "model_state_dict = torch.load(\"review_classifier.pth\")\n",
    "model.load_state_dict(model_state_dict)"
   ]
  }
 ],
 "metadata": {
  "kernelspec": {
   "display_name": "Python 3",
   "language": "python",
   "name": "python3"
  },
  "language_info": {
   "codemirror_mode": {
    "name": "ipython",
    "version": 3
   },
   "file_extension": ".py",
   "mimetype": "text/x-python",
   "name": "python",
   "nbconvert_exporter": "python",
   "pygments_lexer": "ipython3",
   "version": "3.11.9"
  }
 },
 "nbformat": 4,
 "nbformat_minor": 5
}
