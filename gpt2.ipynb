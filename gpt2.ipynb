{
 "cells": [
  {
   "cell_type": "code",
   "execution_count": 2,
   "id": "5b1cf009",
   "metadata": {},
   "outputs": [],
   "source": [
    "import torch\n",
    "import torch.nn as nn"
   ]
  },
  {
   "cell_type": "code",
   "execution_count": 3,
   "id": "7fc8a239",
   "metadata": {},
   "outputs": [],
   "source": [
    "import tiktoken\n",
    "tokenizer = tiktoken.get_encoding(\"gpt2\")"
   ]
  },
  {
   "cell_type": "code",
   "execution_count": null,
   "id": "8eb439f8",
   "metadata": {},
   "outputs": [],
   "source": []
  },
  {
   "cell_type": "code",
   "execution_count": null,
   "id": "3797d591",
   "metadata": {},
   "outputs": [],
   "source": [
    "class multimaskattation(nn.Module):\n",
    "    \n",
    "    def __init__(self,d_in,d_out,dropout,num_heads,qkv_bias = False):\n",
    "        super().__init__()\n",
    "        self.d_out  = d_out\n",
    "        self.q_weight = nn.linear(d_in,d_out,qkv_bias = False)\n",
    "        self.k_weight = nn.linear(d_in,d_out,qkv_bias = False)\n",
    "        self.v_weight = nn.linear(d_in,d_out,qkv_bias = False)\n",
    "        self.dropout  = nn.Dropout(dropout)\n",
    "        \n",
    "    def forward(self,idx):\n",
    "        batch,num_tokens,d_in = idx.shape\n",
    "        q_matrix = self.q_weight(idx)\n",
    "        k_matrix = self.k_weight(idx)\n",
    "        v_matrix = self.v_weight(idx)\n",
    "        \n",
    "        attention_score = q_matrix @ k_matrix.T\n",
    "        mask_metrix = torch.triu(torch.ones())\n",
    "        masked_matrix = attention_score.masked_fill(mask_metrix.bool()[:num_tokens,:num_tokens],-torch.inf)\n",
    "        attention_weight = nn.Softmax(masked_matrix / idx.shape[-1] ** 0.5)\n",
    "        \n",
    "        attention_weight = self.dropout(attention_weight)\n",
    "        context_vec = attention_weight @ v_matrix\n",
    "        return context_vec"
   ]
  },
  {
   "cell_type": "code",
   "execution_count": null,
   "id": "880d18dd",
   "metadata": {},
   "outputs": [],
   "source": []
  },
  {
   "cell_type": "code",
   "execution_count": null,
   "id": "604b8ad9",
   "metadata": {},
   "outputs": [],
   "source": []
  },
  {
   "cell_type": "code",
   "execution_count": null,
   "id": "739e0fb7",
   "metadata": {},
   "outputs": [],
   "source": []
  },
  {
   "cell_type": "code",
   "execution_count": null,
   "id": "e6dfbfde",
   "metadata": {},
   "outputs": [],
   "source": []
  },
  {
   "cell_type": "code",
   "execution_count": null,
   "id": "79e57f6b",
   "metadata": {},
   "outputs": [],
   "source": []
  },
  {
   "cell_type": "code",
   "execution_count": null,
   "id": "40e8d6d7",
   "metadata": {},
   "outputs": [],
   "source": []
  },
  {
   "cell_type": "code",
   "execution_count": null,
   "id": "3c750529",
   "metadata": {},
   "outputs": [],
   "source": []
  },
  {
   "cell_type": "code",
   "execution_count": null,
   "id": "45a048dd",
   "metadata": {},
   "outputs": [],
   "source": []
  }
 ],
 "metadata": {
  "kernelspec": {
   "display_name": "Python 3",
   "language": "python",
   "name": "python3"
  },
  "language_info": {
   "codemirror_mode": {
    "name": "ipython",
    "version": 3
   },
   "file_extension": ".py",
   "mimetype": "text/x-python",
   "name": "python",
   "nbconvert_exporter": "python",
   "pygments_lexer": "ipython3",
   "version": "3.11.9"
  }
 },
 "nbformat": 4,
 "nbformat_minor": 5
}
